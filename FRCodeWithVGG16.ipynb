{
  "nbformat": 4,
  "nbformat_minor": 0,
  "metadata": {
    "colab": {
      "provenance": [],
      "gpuType": "T4",
      "collapsed_sections": [
        "83tkiTZv_thi",
        "tMiIWByMBZMA",
        "FxISMmqE_nsK",
        "T_bccjmv4WzR"
      ],
      "toc_visible": true
    },
    "kernelspec": {
      "name": "python3",
      "display_name": "Python 3"
    },
    "language_info": {
      "name": "python"
    },
    "accelerator": "GPU"
  },
  "cells": [
    {
      "cell_type": "markdown",
      "source": [
        "# Mount Google Drive to Colab from same account"
      ],
      "metadata": {
        "id": "83tkiTZv_thi"
      }
    },
    {
      "cell_type": "code",
      "source": [
        "#This will mount the drive into colab\n",
        "from google.colab import drive\n",
        "drive.mount('/content/drive') "
      ],
      "metadata": {
        "id": "tQspsYTf_zKj"
      },
      "execution_count": null,
      "outputs": []
    },
    {
      "cell_type": "markdown",
      "source": [
        "# Mount Google Drive to Colab when Colab account is different than Google Drive account"
      ],
      "metadata": {
        "id": "DqLT7S0SNruZ"
      }
    },
    {
      "cell_type": "code",
      "source": [
        "#Reference: https://stackoverflow.com/questions/71695387/connecting-to-a-different-google-drive-than-the-one-logged-into-google-colab/71696254#71696254\n",
        "\n",
        "!sudo echo -ne '\\n' | sudo add-apt-repository ppa:alessandro-strada/ppa >/dev/null 2>&1 # note: >/dev/null 2>&1 is used to supress printing\n",
        "!sudo apt update >/dev/null 2>&1\n",
        "!sudo apt install google-drive-ocamlfuse >/dev/null 2>&1\n",
        "!google-drive-ocamlfuse\n",
        "!sudo apt-get install w3m >/dev/null 2>&1 # to act as web browser \n",
        "!xdg-settings set default-web-browser w3m.desktop >/dev/null 2>&1 # to set default browser \n",
        "%cd /content\n",
        "!mkdir gdrive\n",
        "%cd gdrive\n",
        "!mkdir \"My Drive\"\n",
        "!google-drive-ocamlfuse \"/content/gdrive/My Drive\""
      ],
      "metadata": {
        "id": "Dd7TKBOeMn33",
        "colab": {
          "base_uri": "https://localhost:8080/"
        },
        "outputId": "7d2895f1-f414-486c-e831-aabdf7452239"
      },
      "execution_count": 1,
      "outputs": [
        {
          "output_type": "stream",
          "name": "stdout",
          "text": [
            "/usr/bin/xdg-open: 869: www-browser: not found\n",
            "/usr/bin/xdg-open: 869: links2: not found\n",
            "/usr/bin/xdg-open: 869: elinks: not found\n",
            "/usr/bin/xdg-open: 869: links: not found\n",
            "/usr/bin/xdg-open: 869: lynx: not found\n",
            "/usr/bin/xdg-open: 869: w3m: not found\n",
            "xdg-open: no method available for opening 'https://accounts.google.com/o/oauth2/auth?client_id=564921029129.apps.googleusercontent.com&redirect_uri=https%3A%2F%2Fgd-ocaml-auth.appspot.com%2Foauth2callback&scope=https%3A%2F%2Fwww.googleapis.com%2Fauth%2Fdrive&response_type=code&access_type=offline&approval_prompt=force&state=xKF311Wx61VjVFkrGfXVCvEdDoJONhsw%2FED1yGWw6ds'\n",
            "/bin/sh: 1: firefox: not found\n",
            "/bin/sh: 1: google-chrome: not found\n",
            "/bin/sh: 1: chromium-browser: not found\n",
            "/bin/sh: 1: open: not found\n",
            "Cannot retrieve auth tokens.\n",
            "Failure(\"Error opening URL:https://accounts.google.com/o/oauth2/auth?client_id=564921029129.apps.googleusercontent.com&redirect_uri=https%3A%2F%2Fgd-ocaml-auth.appspot.com%2Foauth2callback&scope=https%3A%2F%2Fwww.googleapis.com%2Fauth%2Fdrive&response_type=code&access_type=offline&approval_prompt=force&state=xKF311Wx61VjVFkrGfXVCvEdDoJONhsw%2FED1yGWw6ds\")\n",
            "/content\n",
            "/content/gdrive\n",
            "Access token retrieved correctly.\n"
          ]
        }
      ]
    },
    {
      "cell_type": "markdown",
      "source": [
        "# Setup stuff"
      ],
      "metadata": {
        "id": "tMiIWByMBZMA"
      }
    },
    {
      "cell_type": "code",
      "source": [
        "# READ BEFORE RUNNING THIS\n",
        "# check directory - if train_new, valid_new, test_new\n",
        "# and their subdirectories exist then don't run this cell\n",
        "#These directories store the images of the 30 actors after the face detection is done\n",
        "\n",
        "# import os\n",
        "# trainnew_path = '/content/drive/MyDrive/Deep Learning Project/data/train_new'\n",
        "# validnew_path = '/content/drive/MyDrive/Deep Learning Project/data/valid_new'\n",
        "# testnew_path = '/content/drive/MyDrive/Deep Learning Project/data/test_new'\n",
        "\n",
        "# os.mkdir(trainnew_path)\n",
        "# os.mkdir(validnew_path)\n",
        "# os.mkdir(testnew_path)\n",
        "\n",
        "# for i in range(1, 31):\n",
        "#  os.mkdir(f\"{trainnew_path}/actor_{i}\")\n",
        "#  os.mkdir(f\"{validnew_path}/actor_{i}\")\n",
        "#  os.mkdir(f\"{testnew_path}/actor_{i}\")"
      ],
      "metadata": {
        "id": "YnY1IU1tBbkQ"
      },
      "execution_count": null,
      "outputs": []
    },
    {
      "cell_type": "markdown",
      "source": [
        "# Face Detection using MTCNN"
      ],
      "metadata": {
        "id": "FxISMmqE_nsK"
      }
    },
    {
      "cell_type": "markdown",
      "source": [
        "Reference for these cells: https://machinelearningmastery.com/how-to-perform-face-recognition-with-vggface2-convolutional-neural-network-in-keras/\n"
      ],
      "metadata": {
        "id": "T6rBee64BXzh"
      }
    },
    {
      "cell_type": "markdown",
      "source": [
        "Installing MTCNN"
      ],
      "metadata": {
        "id": "lmNNJKhnaDGz"
      }
    },
    {
      "cell_type": "code",
      "execution_count": null,
      "metadata": {
        "colab": {
          "base_uri": "https://localhost:8080/"
        },
        "id": "fJqkhph6_ld-",
        "outputId": "0245cecd-98f7-4c23-d2e9-cb82087f3ab6"
      },
      "outputs": [
        {
          "output_type": "stream",
          "name": "stdout",
          "text": [
            "Looking in indexes: https://pypi.org/simple, https://us-python.pkg.dev/colab-wheels/public/simple/\n",
            "Collecting mtcnn\n",
            "  Downloading mtcnn-0.1.1-py3-none-any.whl (2.3 MB)\n",
            "\u001b[2K     \u001b[90m━━━━━━━━━━━━━━━━━━━━━━━━━━━━━━━━━━━━━━━━\u001b[0m \u001b[32m2.3/2.3 MB\u001b[0m \u001b[31m32.9 MB/s\u001b[0m eta \u001b[36m0:00:00\u001b[0m\n",
            "\u001b[?25hRequirement already satisfied: keras>=2.0.0 in /usr/local/lib/python3.10/dist-packages (from mtcnn) (2.12.0)\n",
            "Requirement already satisfied: opencv-python>=4.1.0 in /usr/local/lib/python3.10/dist-packages (from mtcnn) (4.7.0.72)\n",
            "Requirement already satisfied: numpy>=1.21.2 in /usr/local/lib/python3.10/dist-packages (from opencv-python>=4.1.0->mtcnn) (1.22.4)\n",
            "Installing collected packages: mtcnn\n",
            "Successfully installed mtcnn-0.1.1\n"
          ]
        }
      ],
      "source": [
        "!pip install mtcnn  "
      ]
    },
    {
      "cell_type": "markdown",
      "source": [
        "Checking the version of MTCNN"
      ],
      "metadata": {
        "id": "8S0vMRgwaRaQ"
      }
    },
    {
      "cell_type": "code",
      "source": [
        "import mtcnn\n",
        "print(mtcnn.__version__) #mtcnn version is 0.1.0 which is good"
      ],
      "metadata": {
        "colab": {
          "base_uri": "https://localhost:8080/"
        },
        "id": "ZaPx7Rm0Bcg9",
        "outputId": "100237e5-39db-46a5-9770-2a47a93edc6a"
      },
      "execution_count": null,
      "outputs": [
        {
          "output_type": "stream",
          "name": "stdout",
          "text": [
            "0.1.0\n"
          ]
        }
      ]
    },
    {
      "cell_type": "code",
      "source": [
        "#importing libraries for face detection with mtcnn\n",
        "from matplotlib import pyplot\n",
        "from PIL import Image\n",
        "from numpy import asarray\n",
        "from mtcnn.mtcnn import MTCNN\n",
        "from glob import glob\n",
        "import numpy as np\n",
        "import pandas as pd"
      ],
      "metadata": {
        "id": "eWkgUTO3Bw37"
      },
      "execution_count": null,
      "outputs": []
    },
    {
      "cell_type": "code",
      "source": [
        "#function to extract face of actor from a given photograph\n",
        "def extract_face(filename, required_size=(224, 224)): #224 by 224 is needed for VGGFace\n",
        "  pixels = pyplot.imread(filename) # load image from file as numpy array\n",
        "  detector = MTCNN()  # create the MTCNN detector, using default weights\n",
        "\n",
        "  results = detector.detect_faces(pixels) # detect the faces in the image\n",
        "  #print(results) #results is a list of dictionaries\n",
        "  faces_array = [] #this will store the pixels of the faces detected\n",
        "\n",
        "  #for each face\n",
        "  for i in range(len(results)):\n",
        "    #print(results[i]['confidence'])\n",
        "    if results[i]['confidence'] > 0.85:  #if you are more than 85% confident that it is a face\n",
        "      # extract the bounding box from the face\n",
        "      x1, y1, width, height = results[i]['box'] \n",
        "      x2, y2 = x1 + width, y1 + height\n",
        "\n",
        "      # extract the face pixels\n",
        "      face = pixels[y1:y2, x1:x2]\n",
        "\n",
        "      image = Image.fromarray(face) #getting the PIL Image\n",
        "      image = image.resize(required_size) #resize image to 224 x 224 \n",
        "      face_array = asarray(image) #convert resized image back to numpy array\n",
        "      faces_array.append(face_array) #add resized image to list of faces\n",
        "\n",
        "  return faces_array #return the array of faces (numpy array faces)\n"
      ],
      "metadata": {
        "id": "d4BGA1-UBimB"
      },
      "execution_count": null,
      "outputs": []
    },
    {
      "cell_type": "markdown",
      "source": [
        "Checking length of train, valid and test directories to make sure they contain 30 actors (1 actor per folder)."
      ],
      "metadata": {
        "id": "Le5QzQjEcHcD"
      }
    },
    {
      "cell_type": "code",
      "source": [
        "train_images = glob('/content/drive/MyDrive/Deep Learning Project/data/train/*')\n",
        "print(train_images)\n",
        "print(len(train_images))"
      ],
      "metadata": {
        "id": "l1aXz8LhB2bz",
        "colab": {
          "base_uri": "https://localhost:8080/"
        },
        "outputId": "e2d0a7e1-d84e-43f8-fa08-a4e44239c025"
      },
      "execution_count": null,
      "outputs": [
        {
          "output_type": "stream",
          "name": "stdout",
          "text": [
            "['/content/drive/MyDrive/Deep Learning Project/data/train/actor_1', '/content/drive/MyDrive/Deep Learning Project/data/train/actor_2', '/content/drive/MyDrive/Deep Learning Project/data/train/actor_3', '/content/drive/MyDrive/Deep Learning Project/data/train/actor_4', '/content/drive/MyDrive/Deep Learning Project/data/train/actor_5', '/content/drive/MyDrive/Deep Learning Project/data/train/actor_6', '/content/drive/MyDrive/Deep Learning Project/data/train/actor_7', '/content/drive/MyDrive/Deep Learning Project/data/train/actor_8', '/content/drive/MyDrive/Deep Learning Project/data/train/actor_9', '/content/drive/MyDrive/Deep Learning Project/data/train/actor_10', '/content/drive/MyDrive/Deep Learning Project/data/train/actor_11', '/content/drive/MyDrive/Deep Learning Project/data/train/actor_12', '/content/drive/MyDrive/Deep Learning Project/data/train/actor_13', '/content/drive/MyDrive/Deep Learning Project/data/train/actor_14', '/content/drive/MyDrive/Deep Learning Project/data/train/actor_15', '/content/drive/MyDrive/Deep Learning Project/data/train/actor_16', '/content/drive/MyDrive/Deep Learning Project/data/train/actor_17', '/content/drive/MyDrive/Deep Learning Project/data/train/actor_18', '/content/drive/MyDrive/Deep Learning Project/data/train/actor_19', '/content/drive/MyDrive/Deep Learning Project/data/train/actor_20', '/content/drive/MyDrive/Deep Learning Project/data/train/actor_21', '/content/drive/MyDrive/Deep Learning Project/data/train/actor_22', '/content/drive/MyDrive/Deep Learning Project/data/train/actor_23', '/content/drive/MyDrive/Deep Learning Project/data/train/actor_24', '/content/drive/MyDrive/Deep Learning Project/data/train/actor_25', '/content/drive/MyDrive/Deep Learning Project/data/train/actor_26', '/content/drive/MyDrive/Deep Learning Project/data/train/actor_27', '/content/drive/MyDrive/Deep Learning Project/data/train/actor_28', '/content/drive/MyDrive/Deep Learning Project/data/train/actor_29', '/content/drive/MyDrive/Deep Learning Project/data/train/actor_30']\n",
            "30\n"
          ]
        }
      ]
    },
    {
      "cell_type": "code",
      "source": [
        "valid_images = glob('/content/drive/MyDrive/Deep Learning Project/data/valid/*')\n",
        "print(valid_images)\n",
        "print(len(valid_images))"
      ],
      "metadata": {
        "colab": {
          "base_uri": "https://localhost:8080/"
        },
        "id": "r9hxZUD4b9Ql",
        "outputId": "66f79a90-2fa1-4de4-8196-b0be45344978"
      },
      "execution_count": null,
      "outputs": [
        {
          "output_type": "stream",
          "name": "stdout",
          "text": [
            "['/content/drive/MyDrive/Deep Learning Project/data/valid/actor_1', '/content/drive/MyDrive/Deep Learning Project/data/valid/actor_2', '/content/drive/MyDrive/Deep Learning Project/data/valid/actor_3', '/content/drive/MyDrive/Deep Learning Project/data/valid/actor_4', '/content/drive/MyDrive/Deep Learning Project/data/valid/actor_5', '/content/drive/MyDrive/Deep Learning Project/data/valid/actor_6', '/content/drive/MyDrive/Deep Learning Project/data/valid/actor_7', '/content/drive/MyDrive/Deep Learning Project/data/valid/actor_8', '/content/drive/MyDrive/Deep Learning Project/data/valid/actor_9', '/content/drive/MyDrive/Deep Learning Project/data/valid/actor_10', '/content/drive/MyDrive/Deep Learning Project/data/valid/actor_11', '/content/drive/MyDrive/Deep Learning Project/data/valid/actor_12', '/content/drive/MyDrive/Deep Learning Project/data/valid/actor_13', '/content/drive/MyDrive/Deep Learning Project/data/valid/actor_14', '/content/drive/MyDrive/Deep Learning Project/data/valid/actor_15', '/content/drive/MyDrive/Deep Learning Project/data/valid/actor_16', '/content/drive/MyDrive/Deep Learning Project/data/valid/actor_17', '/content/drive/MyDrive/Deep Learning Project/data/valid/actor_18', '/content/drive/MyDrive/Deep Learning Project/data/valid/actor_19', '/content/drive/MyDrive/Deep Learning Project/data/valid/actor_20', '/content/drive/MyDrive/Deep Learning Project/data/valid/actor_21', '/content/drive/MyDrive/Deep Learning Project/data/valid/actor_22', '/content/drive/MyDrive/Deep Learning Project/data/valid/actor_23', '/content/drive/MyDrive/Deep Learning Project/data/valid/actor_24', '/content/drive/MyDrive/Deep Learning Project/data/valid/actor_25', '/content/drive/MyDrive/Deep Learning Project/data/valid/actor_26', '/content/drive/MyDrive/Deep Learning Project/data/valid/actor_27', '/content/drive/MyDrive/Deep Learning Project/data/valid/actor_28', '/content/drive/MyDrive/Deep Learning Project/data/valid/actor_29', '/content/drive/MyDrive/Deep Learning Project/data/valid/actor_30']\n",
            "30\n"
          ]
        }
      ]
    },
    {
      "cell_type": "code",
      "source": [
        "test_images = glob('/content/drive/MyDrive/Deep Learning Project/data/test/*')\n",
        "print(test_images)\n",
        "print(len(test_images))"
      ],
      "metadata": {
        "colab": {
          "base_uri": "https://localhost:8080/"
        },
        "id": "sMOUoakCb-qy",
        "outputId": "2eacdbf8-6f23-4571-fd47-9d15602be770"
      },
      "execution_count": null,
      "outputs": [
        {
          "output_type": "stream",
          "name": "stdout",
          "text": [
            "['/content/drive/MyDrive/Deep Learning Project/data/test/actor_1', '/content/drive/MyDrive/Deep Learning Project/data/test/actor_2', '/content/drive/MyDrive/Deep Learning Project/data/test/actor_3', '/content/drive/MyDrive/Deep Learning Project/data/test/actor_4', '/content/drive/MyDrive/Deep Learning Project/data/test/actor_5', '/content/drive/MyDrive/Deep Learning Project/data/test/actor_6', '/content/drive/MyDrive/Deep Learning Project/data/test/actor_7', '/content/drive/MyDrive/Deep Learning Project/data/test/actor_8', '/content/drive/MyDrive/Deep Learning Project/data/test/actor_9', '/content/drive/MyDrive/Deep Learning Project/data/test/actor_10', '/content/drive/MyDrive/Deep Learning Project/data/test/actor_11', '/content/drive/MyDrive/Deep Learning Project/data/test/actor_12', '/content/drive/MyDrive/Deep Learning Project/data/test/actor_13', '/content/drive/MyDrive/Deep Learning Project/data/test/actor_14', '/content/drive/MyDrive/Deep Learning Project/data/test/actor_15', '/content/drive/MyDrive/Deep Learning Project/data/test/actor_16', '/content/drive/MyDrive/Deep Learning Project/data/test/actor_17', '/content/drive/MyDrive/Deep Learning Project/data/test/actor_18', '/content/drive/MyDrive/Deep Learning Project/data/test/actor_19', '/content/drive/MyDrive/Deep Learning Project/data/test/actor_20', '/content/drive/MyDrive/Deep Learning Project/data/test/actor_21', '/content/drive/MyDrive/Deep Learning Project/data/test/actor_22', '/content/drive/MyDrive/Deep Learning Project/data/test/actor_23', '/content/drive/MyDrive/Deep Learning Project/data/test/actor_24', '/content/drive/MyDrive/Deep Learning Project/data/test/actor_25', '/content/drive/MyDrive/Deep Learning Project/data/test/actor_26', '/content/drive/MyDrive/Deep Learning Project/data/test/actor_27', '/content/drive/MyDrive/Deep Learning Project/data/test/actor_28', '/content/drive/MyDrive/Deep Learning Project/data/test/actor_29', '/content/drive/MyDrive/Deep Learning Project/data/test/actor_30']\n",
            "30\n"
          ]
        }
      ]
    },
    {
      "cell_type": "markdown",
      "source": [
        "We will go through each image for each actor in train, valid and test folders and do face detection by calling extract_face. I deleted the cell outputs because they were too long (lots of unnecessary output)."
      ],
      "metadata": {
        "id": "aWlTL2LycaPM"
      }
    },
    {
      "cell_type": "code",
      "source": [
        "from PIL import Image\n",
        "\n",
        "training_faces_dict = {}\n",
        "valid_faces_dict = {}\n",
        "test_faces_dict = {}\n",
        "\n",
        "counter = 0\n",
        "for folder in train_images: #for each actor\n",
        "  actor_name = str(folder.split('/')[-1])\n",
        "  training_faces_dict[actor_name] = []\n",
        "  train_images_for_actor = glob(str(folder)+'/*')\n",
        "  \n",
        "  for image in train_images_for_actor: #for all images for this actor\n",
        "    #load the photo and extract the faces in \n",
        "    faces = extract_face(image) #list of faces for 1 image\n",
        "\n",
        "    training_faces_dict[actor_name].append(faces)\n",
        "    for face in faces:\n",
        "      face_img = Image.fromarray(obj=face, mode=\"RGB\")\n",
        "      face_img.save(f'/content/drive/MyDrive/Deep Learning Project/data/train_new/{actor_name}/{counter}.png')\n",
        "      counter += 1\n",
        "  print(\"Done with an actor\")\n",
        "\n",
        "print(\"Done with saving training\")"
      ],
      "metadata": {
        "id": "D4A9OKrpcZfb"
      },
      "execution_count": null,
      "outputs": []
    },
    {
      "cell_type": "code",
      "source": [
        "counter = 0\n",
        "for folder in valid_images:\n",
        "  actor_name = str(folder.split('/')[-1])\n",
        "  valid_faces_dict[actor_name] = []\n",
        "  valid_images_for_actor = glob(str(folder)+'/*')\n",
        "  for image in valid_images_for_actor:\n",
        "    #load the photo and extract the faces in \n",
        "    faces = extract_face(image) #list of faces for 1 image\n",
        "    valid_faces_dict[actor_name].append(faces)\n",
        "    for face in faces:\n",
        "      face_img = Image.fromarray(obj=face, mode=\"RGB\")\n",
        "      face_img.save(f'/content/drive/MyDrive/Deep Learning Project/data/valid_new/{actor_name}/{counter}.png')\n",
        "      counter += 1\n",
        "\n",
        "print(\"Done with saving validation\")"
      ],
      "metadata": {
        "id": "bPKHbn50dhyN"
      },
      "execution_count": null,
      "outputs": []
    },
    {
      "cell_type": "code",
      "source": [
        "counter = 0\n",
        "for folder in test_images:\n",
        "  actor_name = str(folder.split('/')[-1])\n",
        "  test_faces_dict[actor_name] = []\n",
        "  test_images_for_actor = glob(str(folder)+'/*')\n",
        "  for image in test_images_for_actor:\n",
        "    #load the photo and extract the faces in \n",
        "    faces = extract_face(image) #list of faces for 1 image\n",
        "    test_faces_dict[actor_name].append(faces)\n",
        "    for face in faces:\n",
        "      face_img = Image.fromarray(obj=face, mode=\"RGB\")\n",
        "      face_img.save(f'/content/drive/MyDrive/Deep Learning Project/data/test_new/{actor_name}/{counter}.png')\n",
        "      counter += 1\n",
        "\n",
        "print(\"Done with saving testing\")"
      ],
      "metadata": {
        "id": "Ul3TZDlzeNbo"
      },
      "execution_count": null,
      "outputs": []
    },
    {
      "cell_type": "markdown",
      "source": [
        "# Model 1: VGGFace for face recognition"
      ],
      "metadata": {
        "id": "6bvZR-syepq2"
      }
    },
    {
      "cell_type": "markdown",
      "source": [
        "Reference for these cells: https://machinelearningmastery.com/how-to-perform-face-recognition-with-vggface2-convolutional-neural-network-in-keras/"
      ],
      "metadata": {
        "id": "8uXUbYS_evCh"
      }
    },
    {
      "cell_type": "markdown",
      "source": [
        "## Setup for VGGFace"
      ],
      "metadata": {
        "id": "CZT40xzkm-U-"
      }
    },
    {
      "cell_type": "markdown",
      "source": [
        "Installing vggface module with Keras library implementation"
      ],
      "metadata": {
        "id": "4sEtzvg1MJLa"
      }
    },
    {
      "cell_type": "code",
      "source": [
        "#Reference: https://stackoverflow.com/questions/68862735/keras-vggface-no-module-named-keras-engine-topology\n",
        "!pip install git+https://github.com/rcmalli/keras-vggface.git\n",
        "!pip install keras_applications --no-deps\n",
        "filename = \"/usr/local/lib/python3.10/dist-packages/keras_vggface/models.py\"\n",
        "text = open(filename).read()\n",
        "open(filename, \"w+\").write(text.replace('keras.engine.topology', 'tensorflow.keras.utils'))"
      ],
      "metadata": {
        "colab": {
          "base_uri": "https://localhost:8080/"
        },
        "id": "y_Y4wG9-Nb2C",
        "outputId": "7b44a600-1439-4cdc-ba9c-12ccd3f6c83c"
      },
      "execution_count": null,
      "outputs": [
        {
          "output_type": "stream",
          "name": "stdout",
          "text": [
            "Looking in indexes: https://pypi.org/simple, https://us-python.pkg.dev/colab-wheels/public/simple/\n",
            "Collecting git+https://github.com/rcmalli/keras-vggface.git\n",
            "  Cloning https://github.com/rcmalli/keras-vggface.git to /tmp/pip-req-build-eydwwxvn\n",
            "  Running command git clone --filter=blob:none --quiet https://github.com/rcmalli/keras-vggface.git /tmp/pip-req-build-eydwwxvn\n",
            "  Resolved https://github.com/rcmalli/keras-vggface.git to commit bee35376e76e35d00aeec503f2f242611a97b38a\n",
            "  Preparing metadata (setup.py) ... \u001b[?25l\u001b[?25hdone\n",
            "Requirement already satisfied: numpy>=1.9.1 in /usr/local/lib/python3.10/dist-packages (from keras-vggface==0.6) (1.22.4)\n",
            "Requirement already satisfied: scipy>=0.14 in /usr/local/lib/python3.10/dist-packages (from keras-vggface==0.6) (1.10.1)\n",
            "Requirement already satisfied: h5py in /usr/local/lib/python3.10/dist-packages (from keras-vggface==0.6) (3.8.0)\n",
            "Requirement already satisfied: pillow in /usr/local/lib/python3.10/dist-packages (from keras-vggface==0.6) (8.4.0)\n",
            "Requirement already satisfied: keras in /usr/local/lib/python3.10/dist-packages (from keras-vggface==0.6) (2.12.0)\n",
            "Requirement already satisfied: six>=1.9.0 in /usr/local/lib/python3.10/dist-packages (from keras-vggface==0.6) (1.16.0)\n",
            "Requirement already satisfied: pyyaml in /usr/local/lib/python3.10/dist-packages (from keras-vggface==0.6) (6.0)\n",
            "Building wheels for collected packages: keras-vggface\n",
            "  Building wheel for keras-vggface (setup.py) ... \u001b[?25l\u001b[?25hdone\n",
            "  Created wheel for keras-vggface: filename=keras_vggface-0.6-py3-none-any.whl size=8298 sha256=ac84da841ebca413ed5dcab63ef9d5884e4ed100a692ed6227e35d722ea141a7\n",
            "  Stored in directory: /tmp/pip-ephem-wheel-cache-8y_qj_6e/wheels/62/cd/e0/3a2d2fe84d014324aed54d420cab52df65a774d9b296c63996\n",
            "Successfully built keras-vggface\n",
            "Installing collected packages: keras-vggface\n",
            "Successfully installed keras-vggface-0.6\n",
            "Looking in indexes: https://pypi.org/simple, https://us-python.pkg.dev/colab-wheels/public/simple/\n",
            "Collecting keras_applications\n",
            "  Downloading Keras_Applications-1.0.8-py3-none-any.whl (50 kB)\n",
            "\u001b[2K     \u001b[90m━━━━━━━━━━━━━━━━━━━━━━━━━━━━━━━━━━━━━━━━\u001b[0m \u001b[32m50.7/50.7 kB\u001b[0m \u001b[31m6.7 MB/s\u001b[0m eta \u001b[36m0:00:00\u001b[0m\n",
            "\u001b[?25hInstalling collected packages: keras_applications\n",
            "Successfully installed keras_applications-1.0.8\n"
          ]
        },
        {
          "output_type": "execute_result",
          "data": {
            "text/plain": [
              "20952"
            ]
          },
          "metadata": {},
          "execution_count": 2
        }
      ]
    },
    {
      "cell_type": "code",
      "source": [
        "import keras_vggface\n",
        "print(keras_vggface.__version__) #we can see that the version is 0.6"
      ],
      "metadata": {
        "colab": {
          "base_uri": "https://localhost:8080/"
        },
        "id": "u18hBVXlKvmH",
        "outputId": "df406002-9168-4ef0-9e81-367cc73245ce"
      },
      "execution_count": null,
      "outputs": [
        {
          "output_type": "stream",
          "name": "stdout",
          "text": [
            "0.6\n"
          ]
        }
      ]
    },
    {
      "cell_type": "code",
      "source": [
        "#importing some necessary modules for face recognition in VGGFace\n",
        "#from mtcnn.mtcnn import MTCNN\n",
        "from glob import glob\n",
        "import numpy as np\n",
        "import pandas as pd\n",
        "from numpy import expand_dims\n",
        "from matplotlib import pyplot\n",
        "from PIL import Image\n",
        "from numpy import asarray\n",
        "from keras_vggface.vggface import VGGFace\n",
        "from keras_vggface.utils import preprocess_input\n",
        "from keras_vggface.utils import decode_predictions\n"
      ],
      "metadata": {
        "id": "D0sLyw3KNuaR"
      },
      "execution_count": null,
      "outputs": []
    },
    {
      "cell_type": "markdown",
      "source": [
        "## Image Augmentation for VGGFace"
      ],
      "metadata": {
        "id": "l33j0gtjnVWA"
      }
    },
    {
      "cell_type": "markdown",
      "source": [
        "Image Augmentation (to increase trainining, validation and testing sizes)"
      ],
      "metadata": {
        "id": "cI0PAXDshdOy"
      }
    },
    {
      "cell_type": "code",
      "source": [
        "from keras.preprocessing.image import ImageDataGenerator #image augmentation (make new images)\n",
        "\n",
        "#we are doing flipping, rescaling and other transformations to increase size of dataset since we don't have enough images in our dataset.\n",
        "BATCH_SIZE = 32\n",
        "\n",
        "train_augmentation = ImageDataGenerator(\n",
        "        rescale = 1./255,\n",
        "        rotation_range = 20,\n",
        "        shear_range= 0.2,\n",
        "        zoom_range= 0.2,\n",
        "        horizontal_flip=True,\n",
        "        #vertical_flip = True,\n",
        "        width_shift_range= 0.2, \n",
        "        height_shift_range= 0.2, \n",
        "        brightness_range=[0.6,1.4], \n",
        "        fill_mode = \"constant\"\n",
        "        )\n",
        "\n",
        "test_augmentation = ImageDataGenerator(rescale=1./255)\n",
        "\n",
        "#flow_from_directory() will get images on the fly, these augmented images are not stored in google drive\n",
        "training_set = train_augmentation.flow_from_directory(\n",
        "        '/content/gdrive/My Drive/Deep Learning Project/data/train_new/',\n",
        "        target_size = (224, 224),\n",
        "        batch_size = BATCH_SIZE,\n",
        "        class_mode='categorical', \n",
        "        seed = 42)\n",
        "\n",
        "validation_set = test_augmentation.flow_from_directory(\n",
        "        '/content/gdrive/My Drive/Deep Learning Project/data/valid_new/',\n",
        "        target_size=(224, 224),\n",
        "        batch_size = BATCH_SIZE,\n",
        "        class_mode='categorical')\n",
        "\n",
        "test_set = test_augmentation.flow_from_directory(\n",
        "        '/content/gdrive/My Drive/Deep Learning Project/data/test_new/',\n",
        "        target_size=(224, 224),\n",
        "        batch_size = BATCH_SIZE,\n",
        "        class_mode='categorical')\n",
        "\n",
        "label_map = training_set.class_indices\n",
        "label_map"
      ],
      "metadata": {
        "colab": {
          "base_uri": "https://localhost:8080/"
        },
        "id": "RQyebzeMZABL",
        "outputId": "ea806d1a-3160-403e-e2c7-3cd6fead101d"
      },
      "execution_count": null,
      "outputs": [
        {
          "output_type": "stream",
          "name": "stdout",
          "text": [
            "Found 916 images belonging to 30 classes.\n",
            "Found 124 images belonging to 30 classes.\n",
            "Found 123 images belonging to 30 classes.\n"
          ]
        },
        {
          "output_type": "execute_result",
          "data": {
            "text/plain": [
              "{'actor_1': 0,\n",
              " 'actor_10': 1,\n",
              " 'actor_11': 2,\n",
              " 'actor_12': 3,\n",
              " 'actor_13': 4,\n",
              " 'actor_14': 5,\n",
              " 'actor_15': 6,\n",
              " 'actor_16': 7,\n",
              " 'actor_17': 8,\n",
              " 'actor_18': 9,\n",
              " 'actor_19': 10,\n",
              " 'actor_2': 11,\n",
              " 'actor_20': 12,\n",
              " 'actor_21': 13,\n",
              " 'actor_22': 14,\n",
              " 'actor_23': 15,\n",
              " 'actor_24': 16,\n",
              " 'actor_25': 17,\n",
              " 'actor_26': 18,\n",
              " 'actor_27': 19,\n",
              " 'actor_28': 20,\n",
              " 'actor_29': 21,\n",
              " 'actor_3': 22,\n",
              " 'actor_30': 23,\n",
              " 'actor_4': 24,\n",
              " 'actor_5': 25,\n",
              " 'actor_6': 26,\n",
              " 'actor_7': 27,\n",
              " 'actor_8': 28,\n",
              " 'actor_9': 29}"
            ]
          },
          "metadata": {},
          "execution_count": 20
        }
      ]
    },
    {
      "cell_type": "code",
      "source": [
        "import matplotlib.pyplot as plt\n",
        "\n",
        "images, _ = next(training_set)\n",
        "# print(next(training_set))\n",
        "print(len(images))\n",
        "plt.imshow(images[0]) # display first image from batch"
      ],
      "metadata": {
        "colab": {
          "base_uri": "https://localhost:8080/",
          "height": 469
        },
        "id": "15gJyESm5XAS",
        "outputId": "32faedd9-5c97-48e5-e6e9-39ca72efa1c0"
      },
      "execution_count": null,
      "outputs": [
        {
          "output_type": "stream",
          "name": "stdout",
          "text": [
            "32\n"
          ]
        },
        {
          "output_type": "execute_result",
          "data": {
            "text/plain": [
              "<matplotlib.image.AxesImage at 0x7ff840793820>"
            ]
          },
          "metadata": {},
          "execution_count": 27
        },
        {
          "output_type": "display_data",
          "data": {
            "text/plain": [
              "<Figure size 640x480 with 1 Axes>"
            ],
            "image/png": "[encoded data removed]"
          },
          "metadata": {}
        }
      ]
    },
    {
      "cell_type": "markdown",
      "source": [
        "## Model creation and compilation"
      ],
      "metadata": {
        "id": "hse3EX5quUPl"
      }
    },
    {
      "cell_type": "markdown",
      "source": [
        "Creating VGGFace model with ResNet-50"
      ],
      "metadata": {
        "id": "zACDKftTU1Iy"
      }
    },
    {
      "cell_type": "code",
      "source": [
        "vgg = VGGFace(model='vgg16', weights = \"vggface\", input_shape = (224, 224, 3), include_top = False) #include_top = False so we remove the last fully connected layers. weights = \"vggface\" so it is pre-trained on vggface dataset"
      ],
      "metadata": {
        "id": "QijCF997PkJJ"
      },
      "execution_count": null,
      "outputs": []
    },
    {
      "cell_type": "code",
      "source": [
        "vgg.summary()"
      ],
      "metadata": {
        "colab": {
          "base_uri": "https://localhost:8080/"
        },
        "id": "07_YVKjc3Y55",
        "outputId": "eced57e8-6205-4cd2-95b3-26ed14de42b9"
      },
      "execution_count": null,
      "outputs": [
        {
          "output_type": "stream",
          "name": "stdout",
          "text": [
            "Model: \"vggface_vgg16\"\n",
            "_________________________________________________________________\n",
            " Layer (type)                Output Shape              Param #   \n",
            "=================================================================\n",
            " input_2 (InputLayer)        [(None, 224, 224, 3)]     0         \n",
            "                                                                 \n",
            " conv1_1 (Conv2D)            (None, 224, 224, 64)      1792      \n",
            "                                                                 \n",
            " conv1_2 (Conv2D)            (None, 224, 224, 64)      36928     \n",
            "                                                                 \n",
            " pool1 (MaxPooling2D)        (None, 112, 112, 64)      0         \n",
            "                                                                 \n",
            " conv2_1 (Conv2D)            (None, 112, 112, 128)     73856     \n",
            "                                                                 \n",
            " conv2_2 (Conv2D)            (None, 112, 112, 128)     147584    \n",
            "                                                                 \n",
            " pool2 (MaxPooling2D)        (None, 56, 56, 128)       0         \n",
            "                                                                 \n",
            " conv3_1 (Conv2D)            (None, 56, 56, 256)       295168    \n",
            "                                                                 \n",
            " conv3_2 (Conv2D)            (None, 56, 56, 256)       590080    \n",
            "                                                                 \n",
            " conv3_3 (Conv2D)            (None, 56, 56, 256)       590080    \n",
            "                                                                 \n",
            " pool3 (MaxPooling2D)        (None, 28, 28, 256)       0         \n",
            "                                                                 \n",
            " conv4_1 (Conv2D)            (None, 28, 28, 512)       1180160   \n",
            "                                                                 \n",
            " conv4_2 (Conv2D)            (None, 28, 28, 512)       2359808   \n",
            "                                                                 \n",
            " conv4_3 (Conv2D)            (None, 28, 28, 512)       2359808   \n",
            "                                                                 \n",
            " pool4 (MaxPooling2D)        (None, 14, 14, 512)       0         \n",
            "                                                                 \n",
            " conv5_1 (Conv2D)            (None, 14, 14, 512)       2359808   \n",
            "                                                                 \n",
            " conv5_2 (Conv2D)            (None, 14, 14, 512)       2359808   \n",
            "                                                                 \n",
            " conv5_3 (Conv2D)            (None, 14, 14, 512)       2359808   \n",
            "                                                                 \n",
            " pool5 (MaxPooling2D)        (None, 7, 7, 512)         0         \n",
            "                                                                 \n",
            "=================================================================\n",
            "Total params: 14,714,688\n",
            "Trainable params: 14,714,688\n",
            "Non-trainable params: 0\n",
            "_________________________________________________________________\n"
          ]
        }
      ]
    },
    {
      "cell_type": "code",
      "source": [
        "# don't train existing layers (every layer except last ones which we already removed)\n",
        "for layer in vgg.layers:\n",
        "  layer.trainable = False"
      ],
      "metadata": {
        "id": "G_9qMjHMVXjp"
      },
      "execution_count": null,
      "outputs": []
    },
    {
      "cell_type": "code",
      "source": [
        "from keras.models import Sequential\n",
        "from keras.layers import Flatten, Dense, GlobalAveragePooling2D\n",
        "import keras \n",
        "\n",
        "#function to create a model\n",
        "def create_model(num_layers = 0, optimizer = None):\n",
        "  model = Sequential()\n",
        "  model.add(vgg) #adding previous model without output layer\n",
        "\n",
        "  model.add(Flatten())\n",
        "  if num_layers == 2:\n",
        "    model.add(Dense(512, activation = \"relu\"))\n",
        "    model.add(Dense(128, activation = \"relu\"))\n",
        "  elif num_layers == 1:\n",
        "    model.add(Dense(128, activation = \"relu\"))\n",
        "  \n",
        "  model.add(Dense(30, activation = \"softmax\")) #30 neurons for the 30 actor categories\n",
        "  model.compile(loss='categorical_crossentropy', optimizer = optimizer, metrics=['accuracy']) #Compiling model with categorical_crossentropy\n",
        "\n",
        "  return model"
      ],
      "metadata": {
        "id": "77xftQLGi44f"
      },
      "execution_count": null,
      "outputs": []
    },
    {
      "cell_type": "code",
      "source": [
        "#Hyperparameters I tried:\n",
        "#learning_rates = [0.01, 0.1, 0.2]\n",
        "#number of hidden layers = 0,1,2 with number of neurons in the layers fixed as shown in create_model\n",
        "#optimizers = [keras.optimizers.SGD(), eras.optimizers.Adam()]\n",
        "#BATCH_SIZE = 32 always\n",
        "\n",
        "model = create_model(num_layers = 2, optimizer = keras.optimizers.Adam(learning_rate = 0.01))\n",
        "model.summary()"
      ],
      "metadata": {
        "colab": {
          "base_uri": "https://localhost:8080/"
        },
        "id": "iXAns4lKjDVX",
        "outputId": "d7de8a92-aef8-4130-a137-9105001791a9"
      },
      "execution_count": null,
      "outputs": [
        {
          "output_type": "stream",
          "name": "stdout",
          "text": [
            "Model: \"sequential_2\"\n",
            "_________________________________________________________________\n",
            " Layer (type)                Output Shape              Param #   \n",
            "=================================================================\n",
            " vggface_vgg16 (Functional)  (None, 7, 7, 512)         14714688  \n",
            "                                                                 \n",
            " flatten_2 (Flatten)         (None, 25088)             0         \n",
            "                                                                 \n",
            " dense_4 (Dense)             (None, 512)               12845568  \n",
            "                                                                 \n",
            " dense_5 (Dense)             (None, 128)               65664     \n",
            "                                                                 \n",
            " dense_6 (Dense)             (None, 30)                3870      \n",
            "                                                                 \n",
            "=================================================================\n",
            "Total params: 27,629,790\n",
            "Trainable params: 12,915,102\n",
            "Non-trainable params: 14,714,688\n",
            "_________________________________________________________________\n"
          ]
        }
      ]
    },
    {
      "cell_type": "markdown",
      "source": [
        "## Fitting model"
      ],
      "metadata": {
        "id": "lYHf00CruoeF"
      }
    },
    {
      "cell_type": "code",
      "source": [
        "import numpy as np\n",
        "import tensorflow as tf\n",
        "import random as python_random\n",
        "\n",
        "#make fitting process stable across multiple runs by setting random seed\n",
        "def reset_seeds():\n",
        "   np.random.seed(42) \n",
        "   tf.random.set_seed(42)\n",
        "\n",
        "reset_seeds() "
      ],
      "metadata": {
        "id": "P0xozKghk7KI"
      },
      "execution_count": null,
      "outputs": []
    },
    {
      "cell_type": "code",
      "source": [
        "#Fitting model\n",
        "history = model.fit(\n",
        "  training_set,\n",
        "  steps_per_epoch = 916 // BATCH_SIZE,\n",
        "  validation_data= validation_set,\n",
        "  #callbacks=[callback],  \n",
        "  epochs = 10\n",
        "  #validation_steps= len(validation_set) // BATCH_SIZE\n",
        ")"
      ],
      "metadata": {
        "colab": {
          "base_uri": "https://localhost:8080/"
        },
        "id": "aZAMKdVnjQBv",
        "outputId": "b3105762-2cea-434a-b294-91db36cc7d3a"
      },
      "execution_count": null,
      "outputs": [
        {
          "output_type": "stream",
          "name": "stdout",
          "text": [
            "Epoch 1/10\n",
            "28/28 [==============================] - 17s 597ms/step - loss: 3.7763 - accuracy: 0.0950 - val_loss: 2.7405 - val_accuracy: 0.2500\n",
            "Epoch 2/10\n",
            "28/28 [==============================] - 16s 583ms/step - loss: 2.3164 - accuracy: 0.2868 - val_loss: 1.6508 - val_accuracy: 0.5242\n",
            "Epoch 3/10\n",
            "28/28 [==============================] - 16s 568ms/step - loss: 1.6470 - accuracy: 0.4921 - val_loss: 1.4866 - val_accuracy: 0.4839\n",
            "Epoch 4/10\n",
            "28/28 [==============================] - 15s 550ms/step - loss: 1.3782 - accuracy: 0.5724 - val_loss: 1.4606 - val_accuracy: 0.5645\n",
            "Epoch 5/10\n",
            "28/28 [==============================] - 17s 594ms/step - loss: 1.2294 - accuracy: 0.6301 - val_loss: 1.3064 - val_accuracy: 0.5645\n",
            "Epoch 6/10\n",
            "28/28 [==============================] - 18s 658ms/step - loss: 1.2065 - accuracy: 0.6267 - val_loss: 1.3486 - val_accuracy: 0.6048\n",
            "Epoch 7/10\n",
            "28/28 [==============================] - 15s 550ms/step - loss: 1.1855 - accuracy: 0.6505 - val_loss: 1.3966 - val_accuracy: 0.6532\n",
            "Epoch 8/10\n",
            "28/28 [==============================] - 16s 588ms/step - loss: 1.0280 - accuracy: 0.6787 - val_loss: 1.2279 - val_accuracy: 0.6452\n",
            "Epoch 9/10\n",
            "28/28 [==============================] - 16s 578ms/step - loss: 1.0166 - accuracy: 0.6889 - val_loss: 1.2747 - val_accuracy: 0.6452\n",
            "Epoch 10/10\n",
            "28/28 [==============================] - 16s 549ms/step - loss: 0.8765 - accuracy: 0.7421 - val_loss: 1.1819 - val_accuracy: 0.6452\n"
          ]
        }
      ]
    },
    {
      "cell_type": "markdown",
      "source": [
        "## Learning curves for VGGFace"
      ],
      "metadata": {
        "id": "4obFzwN3_i70"
      }
    },
    {
      "cell_type": "code",
      "source": [
        "#https://machinelearningmastery.com/display-deep-learning-model-training-history-in-keras/\n",
        "import matplotlib.pyplot as plt\n",
        "\n",
        "plt.plot(history.history['accuracy'])\n",
        "plt.plot(history.history['val_accuracy'])\n",
        "plt.title('Training and Validation accuracy')\n",
        "plt.ylabel('Accuracy')\n",
        "plt.xlabel('Epoch')\n",
        "plt.legend(['train', 'valid'], loc='upper left')\n",
        "plt.show()\n",
        "# summarize history for loss\n",
        "plt.plot(history.history['loss'])\n",
        "plt.plot(history.history['val_loss'])\n",
        "plt.title('Training and Validation loss')\n",
        "plt.ylabel('Loss')\n",
        "plt.xlabel('Epoch')\n",
        "plt.legend(['train', 'valid'], loc='upper left')\n",
        "plt.show()"
      ],
      "metadata": {
        "colab": {
          "base_uri": "https://localhost:8080/",
          "height": 927
        },
        "id": "u8ZQIXS-_k3d",
        "outputId": "f1b704c5-addd-4eff-876c-fa2871a9c6ab"
      },
      "execution_count": null,
      "outputs": [
        {
          "output_type": "display_data",
          "data": {
            "text/plain": [
              "<Figure size 640x480 with 1 Axes>"
            ],
            "image/png": "[encoded data removed]"
          },
          "metadata": {}
        },
        {
          "output_type": "display_data",
          "data": {
            "text/plain": [
              "<Figure size 640x480 with 1 Axes>"
            ],
            "image/png": "[encoded data removed]"
          },
          "metadata": {}
        }
      ]
    },
    {
      "cell_type": "markdown",
      "source": [
        "## Code to load and save VGGFace model"
      ],
      "metadata": {
        "id": "SQFk8VsvRYZQ"
      }
    },
    {
      "cell_type": "markdown",
      "source": [
        "Save model then download"
      ],
      "metadata": {
        "id": "E-ky9uUkRf9-"
      }
    },
    {
      "cell_type": "code",
      "source": [
        "model.save(\"great model.h5\")"
      ],
      "metadata": {
        "id": "B-yXkOu6RbLQ"
      },
      "execution_count": null,
      "outputs": []
    },
    {
      "cell_type": "markdown",
      "source": [
        "Load model for later use"
      ],
      "metadata": {
        "id": "L7o5kWGmRi3_"
      }
    },
    {
      "cell_type": "code",
      "source": [
        "import keras\n",
        "model = keras.models.load_model('great model.h5')"
      ],
      "metadata": {
        "id": "yLy5GO3cRd4P"
      },
      "execution_count": null,
      "outputs": []
    },
    {
      "cell_type": "markdown",
      "source": [
        "## Predictions on test set for VGGFace"
      ],
      "metadata": {
        "id": "3vD3KMRYNN8N"
      }
    },
    {
      "cell_type": "code",
      "source": [
        "from PIL import Image\n",
        "from glob import glob\n",
        "\n",
        "index_actor_dict = {} #stores actor names in a dictionary by index\n",
        "\n",
        "\n",
        "for key, val in label_map.items():\n",
        "  index_actor_dict[str(val)] = str(key)\n",
        "\n",
        "\n",
        "print(index_actor_dict) #this is the key and values from label_map but reversed"
      ],
      "metadata": {
        "colab": {
          "base_uri": "https://localhost:8080/"
        },
        "id": "glwb_CcGUWmz",
        "outputId": "6e49ac0d-db85-4ab0-db4f-e324590205bf"
      },
      "execution_count": null,
      "outputs": [
        {
          "output_type": "stream",
          "name": "stdout",
          "text": [
            "{'0': 'actor_1', '1': 'actor_10', '2': 'actor_11', '3': 'actor_12', '4': 'actor_13', '5': 'actor_14', '6': 'actor_15', '7': 'actor_16', '8': 'actor_17', '9': 'actor_18', '10': 'actor_19', '11': 'actor_2', '12': 'actor_20', '13': 'actor_21', '14': 'actor_22', '15': 'actor_23', '16': 'actor_24', '17': 'actor_25', '18': 'actor_26', '19': 'actor_27', '20': 'actor_28', '21': 'actor_29', '22': 'actor_3', '23': 'actor_30', '24': 'actor_4', '25': 'actor_5', '26': 'actor_6', '27': 'actor_7', '28': 'actor_8', '29': 'actor_9'}\n"
          ]
        }
      ]
    },
    {
      "cell_type": "code",
      "source": [
        "#This cell creates stores the key as actor number and then value is a list of image paths for that actor\n",
        "\n",
        "test_actor_list = glob(\"/content/gdrive/My Drive/Deep Learning Project/data/test_new/*\")\n",
        "index_img_dict = {}\n",
        "\n",
        "for actor_folder in test_actor_list:\n",
        "  actor = actor_folder.split('/')[-1]\n",
        "  actor_num = actor.split('_')[-1]\n",
        "  actor_images = glob(f\"/content/gdrive/My Drive/Deep Learning Project/data/test_new/actor_{actor_num}/*\")\n",
        "  index_img_dict[actor_num] = actor_images\n",
        "\n",
        "print(index_img_dict)"
      ],
      "metadata": {
        "colab": {
          "base_uri": "https://localhost:8080/"
        },
        "id": "OE-8gZQbUyYz",
        "outputId": "3a38aa18-0332-49a2-e6d8-e60c58a89cda"
      },
      "execution_count": null,
      "outputs": [
        {
          "output_type": "stream",
          "name": "stdout",
          "text": [
            "{'29': ['/content/gdrive/My Drive/Deep Learning Project/data/test_new/actor_29/135.png', '/content/gdrive/My Drive/Deep Learning Project/data/test_new/actor_29/134.png', '/content/gdrive/My Drive/Deep Learning Project/data/test_new/actor_29/137.png', '/content/gdrive/My Drive/Deep Learning Project/data/test_new/actor_29/136.png'], '12': ['/content/gdrive/My Drive/Deep Learning Project/data/test_new/actor_12/64.png', '/content/gdrive/My Drive/Deep Learning Project/data/test_new/actor_12/65.png', '/content/gdrive/My Drive/Deep Learning Project/data/test_new/actor_12/63.png'], '13': ['/content/gdrive/My Drive/Deep Learning Project/data/test_new/actor_13/67.png', '/content/gdrive/My Drive/Deep Learning Project/data/test_new/actor_13/66.png', '/content/gdrive/My Drive/Deep Learning Project/data/test_new/actor_13/68.png'], '23': ['/content/gdrive/My Drive/Deep Learning Project/data/test_new/actor_23/111.png', '/content/gdrive/My Drive/Deep Learning Project/data/test_new/actor_23/112.png', '/content/gdrive/My Drive/Deep Learning Project/data/test_new/actor_23/110.png'], '21': ['/content/gdrive/My Drive/Deep Learning Project/data/test_new/actor_21/103.png'], '2': ['/content/gdrive/My Drive/Deep Learning Project/data/test_new/actor_2/13.png', '/content/gdrive/My Drive/Deep Learning Project/data/test_new/actor_2/12.png', '/content/gdrive/My Drive/Deep Learning Project/data/test_new/actor_2/9.png', '/content/gdrive/My Drive/Deep Learning Project/data/test_new/actor_2/11.png', '/content/gdrive/My Drive/Deep Learning Project/data/test_new/actor_2/15.png', '/content/gdrive/My Drive/Deep Learning Project/data/test_new/actor_2/10.png', '/content/gdrive/My Drive/Deep Learning Project/data/test_new/actor_2/14.png'], '22': ['/content/gdrive/My Drive/Deep Learning Project/data/test_new/actor_22/104.png', '/content/gdrive/My Drive/Deep Learning Project/data/test_new/actor_22/107.png', '/content/gdrive/My Drive/Deep Learning Project/data/test_new/actor_22/109.png', '/content/gdrive/My Drive/Deep Learning Project/data/test_new/actor_22/106.png', '/content/gdrive/My Drive/Deep Learning Project/data/test_new/actor_22/108.png', '/content/gdrive/My Drive/Deep Learning Project/data/test_new/actor_22/105.png'], '28': ['/content/gdrive/My Drive/Deep Learning Project/data/test_new/actor_28/129.png', '/content/gdrive/My Drive/Deep Learning Project/data/test_new/actor_28/130.png', '/content/gdrive/My Drive/Deep Learning Project/data/test_new/actor_28/132.png', '/content/gdrive/My Drive/Deep Learning Project/data/test_new/actor_28/133.png'], '16': ['/content/gdrive/My Drive/Deep Learning Project/data/test_new/actor_16/78.png', '/content/gdrive/My Drive/Deep Learning Project/data/test_new/actor_16/82.png', '/content/gdrive/My Drive/Deep Learning Project/data/test_new/actor_16/83.png', '/content/gdrive/My Drive/Deep Learning Project/data/test_new/actor_16/80.png', '/content/gdrive/My Drive/Deep Learning Project/data/test_new/actor_16/79.png', '/content/gdrive/My Drive/Deep Learning Project/data/test_new/actor_16/81.png'], '18': ['/content/gdrive/My Drive/Deep Learning Project/data/test_new/actor_18/89.png', '/content/gdrive/My Drive/Deep Learning Project/data/test_new/actor_18/94.png', '/content/gdrive/My Drive/Deep Learning Project/data/test_new/actor_18/93.png', '/content/gdrive/My Drive/Deep Learning Project/data/test_new/actor_18/92.png', '/content/gdrive/My Drive/Deep Learning Project/data/test_new/actor_18/95.png'], '24': ['/content/gdrive/My Drive/Deep Learning Project/data/test_new/actor_24/113.png', '/content/gdrive/My Drive/Deep Learning Project/data/test_new/actor_24/115.png', '/content/gdrive/My Drive/Deep Learning Project/data/test_new/actor_24/114.png'], '11': ['/content/gdrive/My Drive/Deep Learning Project/data/test_new/actor_11/60.png', '/content/gdrive/My Drive/Deep Learning Project/data/test_new/actor_11/62.png', '/content/gdrive/My Drive/Deep Learning Project/data/test_new/actor_11/61.png'], '20': ['/content/gdrive/My Drive/Deep Learning Project/data/test_new/actor_20/102.png', '/content/gdrive/My Drive/Deep Learning Project/data/test_new/actor_20/100.png', '/content/gdrive/My Drive/Deep Learning Project/data/test_new/actor_20/101.png'], '5': ['/content/gdrive/My Drive/Deep Learning Project/data/test_new/actor_5/30.png', '/content/gdrive/My Drive/Deep Learning Project/data/test_new/actor_5/24.png', '/content/gdrive/My Drive/Deep Learning Project/data/test_new/actor_5/31.png', '/content/gdrive/My Drive/Deep Learning Project/data/test_new/actor_5/29.png'], '19': ['/content/gdrive/My Drive/Deep Learning Project/data/test_new/actor_19/97.png', '/content/gdrive/My Drive/Deep Learning Project/data/test_new/actor_19/99.png', '/content/gdrive/My Drive/Deep Learning Project/data/test_new/actor_19/96.png', '/content/gdrive/My Drive/Deep Learning Project/data/test_new/actor_19/98.png'], '10': ['/content/gdrive/My Drive/Deep Learning Project/data/test_new/actor_10/52.png', '/content/gdrive/My Drive/Deep Learning Project/data/test_new/actor_10/59.png', '/content/gdrive/My Drive/Deep Learning Project/data/test_new/actor_10/58.png', '/content/gdrive/My Drive/Deep Learning Project/data/test_new/actor_10/51.png', '/content/gdrive/My Drive/Deep Learning Project/data/test_new/actor_10/50.png'], '25': ['/content/gdrive/My Drive/Deep Learning Project/data/test_new/actor_25/119.png', '/content/gdrive/My Drive/Deep Learning Project/data/test_new/actor_25/118.png', '/content/gdrive/My Drive/Deep Learning Project/data/test_new/actor_25/117.png', '/content/gdrive/My Drive/Deep Learning Project/data/test_new/actor_25/116.png'], '7': ['/content/gdrive/My Drive/Deep Learning Project/data/test_new/actor_7/39.png', '/content/gdrive/My Drive/Deep Learning Project/data/test_new/actor_7/41.png', '/content/gdrive/My Drive/Deep Learning Project/data/test_new/actor_7/38.png', '/content/gdrive/My Drive/Deep Learning Project/data/test_new/actor_7/36.png', '/content/gdrive/My Drive/Deep Learning Project/data/test_new/actor_7/40.png', '/content/gdrive/My Drive/Deep Learning Project/data/test_new/actor_7/37.png'], '6': ['/content/gdrive/My Drive/Deep Learning Project/data/test_new/actor_6/35.png', '/content/gdrive/My Drive/Deep Learning Project/data/test_new/actor_6/33.png', '/content/gdrive/My Drive/Deep Learning Project/data/test_new/actor_6/34.png'], '27': ['/content/gdrive/My Drive/Deep Learning Project/data/test_new/actor_27/126.png', '/content/gdrive/My Drive/Deep Learning Project/data/test_new/actor_27/125.png', '/content/gdrive/My Drive/Deep Learning Project/data/test_new/actor_27/127.png', '/content/gdrive/My Drive/Deep Learning Project/data/test_new/actor_27/124.png'], '14': ['/content/gdrive/My Drive/Deep Learning Project/data/test_new/actor_14/71.png', '/content/gdrive/My Drive/Deep Learning Project/data/test_new/actor_14/69.png', '/content/gdrive/My Drive/Deep Learning Project/data/test_new/actor_14/70.png', '/content/gdrive/My Drive/Deep Learning Project/data/test_new/actor_14/73.png'], '4': ['/content/gdrive/My Drive/Deep Learning Project/data/test_new/actor_4/20.png', '/content/gdrive/My Drive/Deep Learning Project/data/test_new/actor_4/23.png', '/content/gdrive/My Drive/Deep Learning Project/data/test_new/actor_4/21.png', '/content/gdrive/My Drive/Deep Learning Project/data/test_new/actor_4/22.png'], '1': ['/content/gdrive/My Drive/Deep Learning Project/data/test_new/actor_1/8.png', '/content/gdrive/My Drive/Deep Learning Project/data/test_new/actor_1/0.png', '/content/gdrive/My Drive/Deep Learning Project/data/test_new/actor_1/4.png', '/content/gdrive/My Drive/Deep Learning Project/data/test_new/actor_1/3.png', '/content/gdrive/My Drive/Deep Learning Project/data/test_new/actor_1/1.png', '/content/gdrive/My Drive/Deep Learning Project/data/test_new/actor_1/2.png'], '8': ['/content/gdrive/My Drive/Deep Learning Project/data/test_new/actor_8/44.png', '/content/gdrive/My Drive/Deep Learning Project/data/test_new/actor_8/45.png', '/content/gdrive/My Drive/Deep Learning Project/data/test_new/actor_8/42.png', '/content/gdrive/My Drive/Deep Learning Project/data/test_new/actor_8/43.png'], '26': ['/content/gdrive/My Drive/Deep Learning Project/data/test_new/actor_26/122.png', '/content/gdrive/My Drive/Deep Learning Project/data/test_new/actor_26/120.png', '/content/gdrive/My Drive/Deep Learning Project/data/test_new/actor_26/123.png', '/content/gdrive/My Drive/Deep Learning Project/data/test_new/actor_26/121.png'], '30': ['/content/gdrive/My Drive/Deep Learning Project/data/test_new/actor_30/139.png', '/content/gdrive/My Drive/Deep Learning Project/data/test_new/actor_30/138.png', '/content/gdrive/My Drive/Deep Learning Project/data/test_new/actor_30/141.png', '/content/gdrive/My Drive/Deep Learning Project/data/test_new/actor_30/140.png'], '3': ['/content/gdrive/My Drive/Deep Learning Project/data/test_new/actor_3/16.png', '/content/gdrive/My Drive/Deep Learning Project/data/test_new/actor_3/19.png', '/content/gdrive/My Drive/Deep Learning Project/data/test_new/actor_3/17.png', '/content/gdrive/My Drive/Deep Learning Project/data/test_new/actor_3/18.png'], '9': ['/content/gdrive/My Drive/Deep Learning Project/data/test_new/actor_9/49.png', '/content/gdrive/My Drive/Deep Learning Project/data/test_new/actor_9/46.png', '/content/gdrive/My Drive/Deep Learning Project/data/test_new/actor_9/48.png', '/content/gdrive/My Drive/Deep Learning Project/data/test_new/actor_9/47.png'], '15': ['/content/gdrive/My Drive/Deep Learning Project/data/test_new/actor_15/74.png', '/content/gdrive/My Drive/Deep Learning Project/data/test_new/actor_15/76.png', '/content/gdrive/My Drive/Deep Learning Project/data/test_new/actor_15/75.png', '/content/gdrive/My Drive/Deep Learning Project/data/test_new/actor_15/77.png'], '17': ['/content/gdrive/My Drive/Deep Learning Project/data/test_new/actor_17/87.png', '/content/gdrive/My Drive/Deep Learning Project/data/test_new/actor_17/85.png', '/content/gdrive/My Drive/Deep Learning Project/data/test_new/actor_17/84.png', '/content/gdrive/My Drive/Deep Learning Project/data/test_new/actor_17/86.png']}\n"
          ]
        }
      ]
    },
    {
      "cell_type": "code",
      "source": [
        "prediction_results = {} #this will store the results of predictions for actor\n",
        "\n",
        "#For each actor\n",
        "for i in range(1, len(index_actor_dict) + 1):\n",
        "  prediction_results[str(i)] = {'correct': 0, 'wrong': 0, 'total_imgs': len(index_img_dict[str(i)])}\n",
        "\n",
        "print(prediction_results)\n",
        "print(len(prediction_results))"
      ],
      "metadata": {
        "colab": {
          "base_uri": "https://localhost:8080/"
        },
        "id": "PISYivkoVYOz",
        "outputId": "b0a07881-e4bd-4c8a-df25-316858527b35"
      },
      "execution_count": null,
      "outputs": [
        {
          "output_type": "stream",
          "name": "stdout",
          "text": [
            "{'1': {'correct': 0, 'wrong': 0, 'total_imgs': 6}, '2': {'correct': 0, 'wrong': 0, 'total_imgs': 7}, '3': {'correct': 0, 'wrong': 0, 'total_imgs': 4}, '4': {'correct': 0, 'wrong': 0, 'total_imgs': 4}, '5': {'correct': 0, 'wrong': 0, 'total_imgs': 4}, '6': {'correct': 0, 'wrong': 0, 'total_imgs': 3}, '7': {'correct': 0, 'wrong': 0, 'total_imgs': 6}, '8': {'correct': 0, 'wrong': 0, 'total_imgs': 4}, '9': {'correct': 0, 'wrong': 0, 'total_imgs': 4}, '10': {'correct': 0, 'wrong': 0, 'total_imgs': 5}, '11': {'correct': 0, 'wrong': 0, 'total_imgs': 3}, '12': {'correct': 0, 'wrong': 0, 'total_imgs': 3}, '13': {'correct': 0, 'wrong': 0, 'total_imgs': 3}, '14': {'correct': 0, 'wrong': 0, 'total_imgs': 4}, '15': {'correct': 0, 'wrong': 0, 'total_imgs': 4}, '16': {'correct': 0, 'wrong': 0, 'total_imgs': 6}, '17': {'correct': 0, 'wrong': 0, 'total_imgs': 4}, '18': {'correct': 0, 'wrong': 0, 'total_imgs': 5}, '19': {'correct': 0, 'wrong': 0, 'total_imgs': 4}, '20': {'correct': 0, 'wrong': 0, 'total_imgs': 3}, '21': {'correct': 0, 'wrong': 0, 'total_imgs': 1}, '22': {'correct': 0, 'wrong': 0, 'total_imgs': 6}, '23': {'correct': 0, 'wrong': 0, 'total_imgs': 3}, '24': {'correct': 0, 'wrong': 0, 'total_imgs': 3}, '25': {'correct': 0, 'wrong': 0, 'total_imgs': 4}, '26': {'correct': 0, 'wrong': 0, 'total_imgs': 4}, '27': {'correct': 0, 'wrong': 0, 'total_imgs': 4}, '28': {'correct': 0, 'wrong': 0, 'total_imgs': 4}, '29': {'correct': 0, 'wrong': 0, 'total_imgs': 4}, '30': {'correct': 0, 'wrong': 0, 'total_imgs': 4}}\n",
            "30\n"
          ]
        }
      ]
    },
    {
      "cell_type": "code",
      "source": [
        "#This cell is where we actually go through all the test images and make predictions\n",
        "from PIL import Image\n",
        "\n",
        "#keep track of correct and wrong predictions\n",
        "num_of_correct_preds = 0\n",
        "num_of_wrong_preds = 0\n",
        "\n",
        "for actor_num, actor_imgs in index_img_dict.items(): #actor_num is between 1 and 30\n",
        "  for im in actor_imgs:\n",
        "    actor_face = np.asarray(Image.open(im)) #numpy array for image\n",
        "    actor_face = actor_face.astype('float32') \n",
        "    #actor_face = actor_face / 255.\n",
        "    \n",
        "    samples = expand_dims(actor_face, axis=0) #expand numpy array from (224, 224, 3) to (1,224,224,3)\n",
        "    \n",
        "    output_prob = model.predict(samples, verbose = 0) #list of 30 probabilities (1 for each actor)\n",
        "    max_prob_index = np.argmax(output_prob) #We take the index of the maximum probability as our index\n",
        "    \n",
        "    val_of_index_in_prediction = output_prob[0][max_prob_index] #get the maximum probability\n",
        "    corresponding_actor = str(index_actor_dict[str(max_prob_index)])[-1] #get actor number for this maximum probability (between 1 and 30)\n",
        "\n",
        "    print(output_prob)\n",
        "    #print(max_prob_index)\n",
        "    print(corresponding_actor)\n",
        "    print(actor_num)\n",
        "\n",
        "    \n",
        "    if str(corresponding_actor) == str(actor_num):\n",
        "      prediction_results[str(int(corresponding_actor) + 1)]['correct'] += 1\n",
        "      num_of_correct_preds += 1\n",
        "    else:\n",
        "      prediction_results[str(int(corresponding_actor) + 1)]['wrong'] += 1\n",
        "      num_of_wrong_preds += 1\n",
        "\n",
        "print(prediction_results)\n",
        "print(\"Number of correct predictions: \" , num_of_correct_preds)\n",
        "print(\"Number of wrong predictions: \", num_of_wrong_preds)\n",
        "accuracyOnTestSet = num_of_correct_preds / (num_of_correct_preds + num_of_wrong_preds)\n",
        "\n",
        "print(\"Accuracy on test set: {:0.2f}\".format(accuracyOnTestSet))"
      ],
      "metadata": {
        "colab": {
          "base_uri": "https://localhost:8080/"
        },
        "id": "l29km8EiXLgI",
        "outputId": "3c779a06-408b-44f3-e0a7-5af8e6306d54"
      },
      "execution_count": null,
      "outputs": [
        {
          "output_type": "stream",
          "name": "stdout",
          "text": [
            "[[0. 0. 0. 0. 0. 0. 0. 0. 0. 0. 0. 0. 0. 0. 0. 0. 0. 0. 0. 0. 1. 0. 0. 0.\n",
            "  0. 0. 0. 0. 0. 0.]]\n",
            "8\n",
            "29\n",
            "[[0. 0. 0. 0. 0. 0. 0. 0. 0. 0. 0. 0. 0. 0. 0. 0. 0. 0. 0. 0. 0. 1. 0. 0.\n",
            "  0. 0. 0. 0. 0. 0.]]\n",
            "9\n",
            "29\n",
            "[[0. 0. 0. 0. 0. 0. 0. 0. 0. 0. 0. 0. 0. 0. 0. 0. 0. 0. 0. 0. 0. 1. 0. 0.\n",
            "  0. 0. 0. 0. 0. 0.]]\n",
            "9\n",
            "29\n",
            "[[0. 0. 0. 0. 0. 0. 0. 0. 0. 0. 0. 0. 0. 0. 0. 0. 0. 0. 0. 0. 0. 1. 0. 0.\n",
            "  0. 0. 0. 0. 0. 0.]]\n",
            "9\n",
            "29\n",
            "[[0. 0. 0. 0. 0. 0. 0. 0. 0. 0. 0. 0. 0. 0. 0. 0. 0. 0. 0. 0. 0. 1. 0. 0.\n",
            "  0. 0. 0. 0. 0. 0.]]\n",
            "9\n",
            "12\n",
            "[[0.000000e+00 0.000000e+00 0.000000e+00 1.000000e+00 0.000000e+00\n",
            "  0.000000e+00 0.000000e+00 0.000000e+00 0.000000e+00 0.000000e+00\n",
            "  0.000000e+00 0.000000e+00 0.000000e+00 0.000000e+00 0.000000e+00\n",
            "  0.000000e+00 0.000000e+00 0.000000e+00 0.000000e+00 0.000000e+00\n",
            "  0.000000e+00 0.000000e+00 0.000000e+00 0.000000e+00 0.000000e+00\n",
            "  7.516396e-36 0.000000e+00 0.000000e+00 0.000000e+00 0.000000e+00]]\n",
            "2\n",
            "12\n",
            "[[0. 0. 0. 0. 0. 0. 0. 0. 0. 0. 0. 0. 0. 0. 0. 0. 0. 0. 0. 0. 0. 0. 0. 0.\n",
            "  0. 1. 0. 0. 0. 0.]]\n",
            "5\n",
            "12\n",
            "[[0.0000000e+00 0.0000000e+00 0.0000000e+00 0.0000000e+00 0.0000000e+00\n",
            "  0.0000000e+00 0.0000000e+00 0.0000000e+00 0.0000000e+00 0.0000000e+00\n",
            "  0.0000000e+00 0.0000000e+00 0.0000000e+00 0.0000000e+00 0.0000000e+00\n",
            "  0.0000000e+00 0.0000000e+00 0.0000000e+00 0.0000000e+00 0.0000000e+00\n",
            "  0.0000000e+00 0.0000000e+00 0.0000000e+00 0.0000000e+00 1.0000000e+00\n",
            "  0.0000000e+00 0.0000000e+00 1.3919322e-29 0.0000000e+00 0.0000000e+00]]\n",
            "4\n",
            "13\n",
            "[[0.0000000e+00 0.0000000e+00 0.0000000e+00 0.0000000e+00 0.0000000e+00\n",
            "  0.0000000e+00 0.0000000e+00 0.0000000e+00 0.0000000e+00 0.0000000e+00\n",
            "  0.0000000e+00 0.0000000e+00 0.0000000e+00 0.0000000e+00 0.0000000e+00\n",
            "  0.0000000e+00 0.0000000e+00 0.0000000e+00 0.0000000e+00 6.0373825e-36\n",
            "  1.0000000e+00 0.0000000e+00 0.0000000e+00 0.0000000e+00 0.0000000e+00\n",
            "  0.0000000e+00 0.0000000e+00 0.0000000e+00 0.0000000e+00 0.0000000e+00]]\n",
            "8\n",
            "13\n",
            "[[0. 0. 0. 0. 1. 0. 0. 0. 0. 0. 0. 0. 0. 0. 0. 0. 0. 0. 0. 0. 0. 0. 0. 0.\n",
            "  0. 0. 0. 0. 0. 0.]]\n",
            "3\n",
            "13\n",
            "[[0. 0. 0. 0. 0. 0. 0. 0. 0. 0. 0. 0. 0. 0. 0. 1. 0. 0. 0. 0. 0. 0. 0. 0.\n",
            "  0. 0. 0. 0. 0. 0.]]\n",
            "3\n",
            "23\n",
            "[[0. 0. 0. 0. 0. 0. 0. 0. 0. 0. 0. 1. 0. 0. 0. 0. 0. 0. 0. 0. 0. 0. 0. 0.\n",
            "  0. 0. 0. 0. 0. 0.]]\n",
            "2\n",
            "23\n",
            "[[0. 0. 0. 0. 0. 0. 0. 0. 0. 0. 0. 0. 0. 0. 0. 1. 0. 0. 0. 0. 0. 0. 0. 0.\n",
            "  0. 0. 0. 0. 0. 0.]]\n",
            "3\n",
            "23\n",
            "[[0. 0. 0. 0. 0. 0. 0. 0. 0. 0. 0. 0. 0. 1. 0. 0. 0. 0. 0. 0. 0. 0. 0. 0.\n",
            "  0. 0. 0. 0. 0. 0.]]\n",
            "1\n",
            "21\n",
            "[[0. 0. 0. 0. 0. 0. 0. 0. 0. 0. 0. 1. 0. 0. 0. 0. 0. 0. 0. 0. 0. 0. 0. 0.\n",
            "  0. 0. 0. 0. 0. 0.]]\n",
            "2\n",
            "2\n",
            "[[1.5027217e-34 0.0000000e+00 0.0000000e+00 0.0000000e+00 0.0000000e+00\n",
            "  0.0000000e+00 0.0000000e+00 0.0000000e+00 0.0000000e+00 0.0000000e+00\n",
            "  0.0000000e+00 0.0000000e+00 0.0000000e+00 0.0000000e+00 0.0000000e+00\n",
            "  0.0000000e+00 0.0000000e+00 0.0000000e+00 0.0000000e+00 1.0000000e+00\n",
            "  2.6386664e-27 0.0000000e+00 0.0000000e+00 0.0000000e+00 0.0000000e+00\n",
            "  0.0000000e+00 0.0000000e+00 0.0000000e+00 0.0000000e+00 0.0000000e+00]]\n",
            "7\n",
            "2\n",
            "[[0. 0. 0. 0. 0. 0. 0. 0. 0. 0. 0. 1. 0. 0. 0. 0. 0. 0. 0. 0. 0. 0. 0. 0.\n",
            "  0. 0. 0. 0. 0. 0.]]\n",
            "2\n",
            "2\n",
            "[[0. 0. 0. 0. 0. 1. 0. 0. 0. 0. 0. 0. 0. 0. 0. 0. 0. 0. 0. 0. 0. 0. 0. 0.\n",
            "  0. 0. 0. 0. 0. 0.]]\n",
            "4\n",
            "2\n",
            "[[0. 0. 0. 0. 0. 0. 0. 0. 0. 0. 0. 1. 0. 0. 0. 0. 0. 0. 0. 0. 0. 0. 0. 0.\n",
            "  0. 0. 0. 0. 0. 0.]]\n",
            "2\n",
            "2\n",
            "[[0.0000000e+00 0.0000000e+00 0.0000000e+00 1.0000000e+00 0.0000000e+00\n",
            "  0.0000000e+00 0.0000000e+00 0.0000000e+00 0.0000000e+00 0.0000000e+00\n",
            "  0.0000000e+00 0.0000000e+00 0.0000000e+00 0.0000000e+00 0.0000000e+00\n",
            "  0.0000000e+00 0.0000000e+00 0.0000000e+00 0.0000000e+00 0.0000000e+00\n",
            "  0.0000000e+00 0.0000000e+00 0.0000000e+00 0.0000000e+00 0.0000000e+00\n",
            "  4.9863186e-21 0.0000000e+00 0.0000000e+00 0.0000000e+00 0.0000000e+00]]\n",
            "2\n",
            "2\n",
            "[[0. 0. 0. 0. 0. 0. 0. 0. 0. 0. 0. 0. 0. 0. 1. 0. 0. 0. 0. 0. 0. 0. 0. 0.\n",
            "  0. 0. 0. 0. 0. 0.]]\n",
            "2\n",
            "2\n",
            "[[0. 0. 0. 0. 0. 0. 0. 0. 0. 0. 0. 0. 0. 0. 1. 0. 0. 0. 0. 0. 0. 0. 0. 0.\n",
            "  0. 0. 0. 0. 0. 0.]]\n",
            "2\n",
            "22\n",
            "[[0. 0. 0. 0. 0. 0. 0. 0. 0. 0. 0. 0. 0. 0. 1. 0. 0. 0. 0. 0. 0. 0. 0. 0.\n",
            "  0. 0. 0. 0. 0. 0.]]\n",
            "2\n",
            "22\n",
            "[[0. 0. 0. 0. 0. 0. 0. 0. 0. 0. 0. 0. 0. 0. 1. 0. 0. 0. 0. 0. 0. 0. 0. 0.\n",
            "  0. 0. 0. 0. 0. 0.]]\n",
            "2\n",
            "22\n",
            "[[0. 0. 0. 0. 0. 0. 0. 0. 0. 0. 0. 0. 0. 0. 1. 0. 0. 0. 0. 0. 0. 0. 0. 0.\n",
            "  0. 0. 0. 0. 0. 0.]]\n",
            "2\n",
            "22\n",
            "[[0. 0. 0. 0. 0. 0. 0. 0. 0. 0. 0. 0. 0. 0. 0. 0. 0. 0. 0. 0. 0. 0. 0. 0.\n",
            "  0. 1. 0. 0. 0. 0.]]\n",
            "5\n",
            "22\n",
            "[[0. 0. 0. 0. 0. 0. 0. 0. 0. 0. 0. 0. 0. 0. 1. 0. 0. 0. 0. 0. 0. 0. 0. 0.\n",
            "  0. 0. 0. 0. 0. 0.]]\n",
            "2\n",
            "22\n",
            "[[0. 1. 0. 0. 0. 0. 0. 0. 0. 0. 0. 0. 0. 0. 0. 0. 0. 0. 0. 0. 0. 0. 0. 0.\n",
            "  0. 0. 0. 0. 0. 0.]]\n",
            "0\n",
            "28\n",
            "[[0. 0. 0. 0. 0. 0. 0. 0. 0. 0. 0. 0. 0. 0. 0. 0. 0. 0. 0. 0. 1. 0. 0. 0.\n",
            "  0. 0. 0. 0. 0. 0.]]\n",
            "8\n",
            "28\n",
            "[[0.         0.         0.         0.         0.         0.\n",
            "  0.         0.         0.         0.         0.         0.\n",
            "  0.         0.         0.         0.         0.         0.\n",
            "  0.         0.00822965 0.9917704  0.         0.         0.\n",
            "  0.         0.         0.         0.         0.         0.        ]]\n",
            "8\n",
            "28\n",
            "[[0. 0. 0. 0. 0. 0. 0. 0. 0. 0. 0. 0. 0. 0. 0. 0. 0. 0. 0. 0. 1. 0. 0. 0.\n",
            "  0. 0. 0. 0. 0. 0.]]\n",
            "8\n",
            "28\n",
            "[[0. 0. 0. 0. 0. 0. 0. 0. 0. 1. 0. 0. 0. 0. 0. 0. 0. 0. 0. 0. 0. 0. 0. 0.\n",
            "  0. 0. 0. 0. 0. 0.]]\n",
            "8\n",
            "16\n",
            "[[1.0000000e+00 0.0000000e+00 0.0000000e+00 0.0000000e+00 0.0000000e+00\n",
            "  0.0000000e+00 0.0000000e+00 0.0000000e+00 0.0000000e+00 0.0000000e+00\n",
            "  0.0000000e+00 0.0000000e+00 0.0000000e+00 0.0000000e+00 0.0000000e+00\n",
            "  0.0000000e+00 0.0000000e+00 0.0000000e+00 0.0000000e+00 0.0000000e+00\n",
            "  0.0000000e+00 0.0000000e+00 0.0000000e+00 0.0000000e+00 0.0000000e+00\n",
            "  0.0000000e+00 0.0000000e+00 1.1021929e-22 0.0000000e+00 0.0000000e+00]]\n",
            "1\n",
            "16\n",
            "[[0. 0. 0. 0. 0. 0. 0. 1. 0. 0. 0. 0. 0. 0. 0. 0. 0. 0. 0. 0. 0. 0. 0. 0.\n",
            "  0. 0. 0. 0. 0. 0.]]\n",
            "6\n",
            "16\n",
            "[[0. 0. 0. 0. 0. 0. 0. 1. 0. 0. 0. 0. 0. 0. 0. 0. 0. 0. 0. 0. 0. 0. 0. 0.\n",
            "  0. 0. 0. 0. 0. 0.]]\n",
            "6\n",
            "16\n",
            "[[0. 0. 0. 0. 0. 0. 0. 1. 0. 0. 0. 0. 0. 0. 0. 0. 0. 0. 0. 0. 0. 0. 0. 0.\n",
            "  0. 0. 0. 0. 0. 0.]]\n",
            "6\n",
            "16\n",
            "[[0. 0. 0. 0. 0. 0. 0. 0. 0. 0. 0. 0. 0. 0. 0. 0. 0. 0. 0. 0. 0. 0. 0. 0.\n",
            "  0. 0. 0. 1. 0. 0.]]\n",
            "7\n",
            "16\n",
            "[[0. 0. 0. 0. 0. 0. 0. 0. 0. 1. 0. 0. 0. 0. 0. 0. 0. 0. 0. 0. 0. 0. 0. 0.\n",
            "  0. 0. 0. 0. 0. 0.]]\n",
            "8\n",
            "18\n",
            "[[0. 0. 0. 0. 0. 0. 0. 0. 0. 0. 0. 0. 0. 0. 0. 0. 0. 0. 0. 0. 0. 0. 0. 0.\n",
            "  0. 0. 0. 1. 0. 0.]]\n",
            "7\n",
            "18\n",
            "[[0. 0. 0. 0. 0. 0. 0. 0. 0. 1. 0. 0. 0. 0. 0. 0. 0. 0. 0. 0. 0. 0. 0. 0.\n",
            "  0. 0. 0. 0. 0. 0.]]\n",
            "8\n",
            "18\n",
            "[[0. 0. 0. 0. 0. 0. 0. 0. 0. 0. 0. 0. 0. 0. 0. 0. 0. 0. 0. 0. 0. 0. 0. 0.\n",
            "  0. 0. 0. 0. 1. 0.]]\n",
            "8\n",
            "18\n",
            "[[0.000000e+00 0.000000e+00 0.000000e+00 0.000000e+00 0.000000e+00\n",
            "  0.000000e+00 0.000000e+00 0.000000e+00 0.000000e+00 9.999999e-01\n",
            "  0.000000e+00 0.000000e+00 0.000000e+00 0.000000e+00 0.000000e+00\n",
            "  0.000000e+00 0.000000e+00 0.000000e+00 0.000000e+00 0.000000e+00\n",
            "  0.000000e+00 0.000000e+00 0.000000e+00 0.000000e+00 0.000000e+00\n",
            "  0.000000e+00 0.000000e+00 0.000000e+00 0.000000e+00 8.390512e-08]]\n",
            "8\n",
            "18\n",
            "[[0. 0. 0. 0. 0. 0. 0. 0. 0. 0. 0. 0. 0. 0. 0. 0. 0. 0. 0. 0. 0. 1. 0. 0.\n",
            "  0. 0. 0. 0. 0. 0.]]\n",
            "9\n",
            "24\n",
            "[[0.000000e+00 0.000000e+00 0.000000e+00 0.000000e+00 0.000000e+00\n",
            "  0.000000e+00 0.000000e+00 0.000000e+00 0.000000e+00 0.000000e+00\n",
            "  0.000000e+00 0.000000e+00 0.000000e+00 0.000000e+00 0.000000e+00\n",
            "  0.000000e+00 5.837175e-17 0.000000e+00 0.000000e+00 0.000000e+00\n",
            "  0.000000e+00 0.000000e+00 1.000000e+00 0.000000e+00 0.000000e+00\n",
            "  0.000000e+00 0.000000e+00 0.000000e+00 0.000000e+00 0.000000e+00]]\n",
            "3\n",
            "24\n",
            "[[0. 0. 0. 0. 0. 0. 0. 0. 0. 0. 0. 0. 0. 0. 0. 0. 1. 0. 0. 0. 0. 0. 0. 0.\n",
            "  0. 0. 0. 0. 0. 0.]]\n",
            "4\n",
            "24\n",
            "[[0. 0. 0. 0. 0. 0. 0. 0. 0. 0. 1. 0. 0. 0. 0. 0. 0. 0. 0. 0. 0. 0. 0. 0.\n",
            "  0. 0. 0. 0. 0. 0.]]\n",
            "9\n",
            "11\n",
            "[[0. 0. 0. 0. 0. 0. 0. 0. 0. 0. 0. 0. 1. 0. 0. 0. 0. 0. 0. 0. 0. 0. 0. 0.\n",
            "  0. 0. 0. 0. 0. 0.]]\n",
            "0\n",
            "11\n",
            "[[0. 0. 1. 0. 0. 0. 0. 0. 0. 0. 0. 0. 0. 0. 0. 0. 0. 0. 0. 0. 0. 0. 0. 0.\n",
            "  0. 0. 0. 0. 0. 0.]]\n",
            "1\n",
            "11\n",
            "[[0. 0. 0. 0. 0. 0. 0. 0. 0. 0. 0. 0. 0. 0. 0. 0. 0. 0. 0. 1. 0. 0. 0. 0.\n",
            "  0. 0. 0. 0. 0. 0.]]\n",
            "7\n",
            "20\n",
            "[[0. 0. 0. 0. 0. 0. 0. 0. 0. 0. 0. 0. 1. 0. 0. 0. 0. 0. 0. 0. 0. 0. 0. 0.\n",
            "  0. 0. 0. 0. 0. 0.]]\n",
            "0\n",
            "20\n",
            "[[0. 0. 0. 0. 0. 0. 0. 0. 0. 0. 0. 0. 1. 0. 0. 0. 0. 0. 0. 0. 0. 0. 0. 0.\n",
            "  0. 0. 0. 0. 0. 0.]]\n",
            "0\n",
            "20\n",
            "[[0. 0. 0. 0. 0. 0. 0. 0. 0. 0. 0. 0. 0. 0. 0. 0. 0. 0. 0. 0. 0. 0. 0. 0.\n",
            "  0. 1. 0. 0. 0. 0.]]\n",
            "5\n",
            "5\n",
            "[[0. 0. 0. 0. 0. 0. 0. 0. 0. 0. 0. 0. 0. 0. 0. 0. 0. 0. 0. 0. 0. 0. 0. 0.\n",
            "  0. 1. 0. 0. 0. 0.]]\n",
            "5\n",
            "5\n",
            "[[0. 0. 0. 0. 0. 0. 0. 0. 0. 0. 0. 0. 0. 0. 0. 0. 0. 0. 0. 0. 0. 0. 0. 0.\n",
            "  0. 1. 0. 0. 0. 0.]]\n",
            "5\n",
            "5\n",
            "[[0. 0. 0. 0. 0. 0. 0. 0. 0. 0. 0. 0. 0. 0. 0. 0. 0. 0. 0. 0. 0. 0. 0. 0.\n",
            "  0. 1. 0. 0. 0. 0.]]\n",
            "5\n",
            "5\n",
            "[[0. 0. 0. 0. 0. 0. 0. 0. 0. 0. 1. 0. 0. 0. 0. 0. 0. 0. 0. 0. 0. 0. 0. 0.\n",
            "  0. 0. 0. 0. 0. 0.]]\n",
            "9\n",
            "19\n",
            "[[0. 0. 0. 0. 0. 0. 0. 0. 0. 0. 1. 0. 0. 0. 0. 0. 0. 0. 0. 0. 0. 0. 0. 0.\n",
            "  0. 0. 0. 0. 0. 0.]]\n",
            "9\n",
            "19\n",
            "[[0. 0. 0. 0. 0. 0. 0. 0. 0. 0. 1. 0. 0. 0. 0. 0. 0. 0. 0. 0. 0. 0. 0. 0.\n",
            "  0. 0. 0. 0. 0. 0.]]\n",
            "9\n",
            "19\n",
            "[[0. 0. 0. 0. 0. 0. 0. 0. 0. 0. 1. 0. 0. 0. 0. 0. 0. 0. 0. 0. 0. 0. 0. 0.\n",
            "  0. 0. 0. 0. 0. 0.]]\n",
            "9\n",
            "19\n",
            "[[0. 1. 0. 0. 0. 0. 0. 0. 0. 0. 0. 0. 0. 0. 0. 0. 0. 0. 0. 0. 0. 0. 0. 0.\n",
            "  0. 0. 0. 0. 0. 0.]]\n",
            "0\n",
            "10\n",
            "[[0. 1. 0. 0. 0. 0. 0. 0. 0. 0. 0. 0. 0. 0. 0. 0. 0. 0. 0. 0. 0. 0. 0. 0.\n",
            "  0. 0. 0. 0. 0. 0.]]\n",
            "0\n",
            "10\n",
            "[[0. 0. 0. 0. 0. 0. 0. 0. 0. 0. 0. 1. 0. 0. 0. 0. 0. 0. 0. 0. 0. 0. 0. 0.\n",
            "  0. 0. 0. 0. 0. 0.]]\n",
            "2\n",
            "10\n",
            "[[0. 1. 0. 0. 0. 0. 0. 0. 0. 0. 0. 0. 0. 0. 0. 0. 0. 0. 0. 0. 0. 0. 0. 0.\n",
            "  0. 0. 0. 0. 0. 0.]]\n",
            "0\n",
            "10\n",
            "[[0. 1. 0. 0. 0. 0. 0. 0. 0. 0. 0. 0. 0. 0. 0. 0. 0. 0. 0. 0. 0. 0. 0. 0.\n",
            "  0. 0. 0. 0. 0. 0.]]\n",
            "0\n",
            "10\n",
            "[[0. 0. 0. 0. 0. 0. 0. 0. 0. 0. 0. 0. 0. 0. 0. 0. 0. 1. 0. 0. 0. 0. 0. 0.\n",
            "  0. 0. 0. 0. 0. 0.]]\n",
            "5\n",
            "25\n",
            "[[0. 0. 0. 0. 0. 0. 0. 0. 0. 0. 0. 0. 0. 0. 0. 0. 0. 1. 0. 0. 0. 0. 0. 0.\n",
            "  0. 0. 0. 0. 0. 0.]]\n",
            "5\n",
            "25\n",
            "[[0. 0. 0. 0. 0. 0. 0. 0. 0. 0. 0. 0. 0. 0. 0. 0. 0. 1. 0. 0. 0. 0. 0. 0.\n",
            "  0. 0. 0. 0. 0. 0.]]\n",
            "5\n",
            "25\n",
            "[[0. 0. 0. 0. 0. 0. 0. 0. 0. 0. 0. 0. 0. 0. 0. 0. 0. 1. 0. 0. 0. 0. 0. 0.\n",
            "  0. 0. 0. 0. 0. 0.]]\n",
            "5\n",
            "25\n",
            "[[0. 0. 0. 0. 0. 0. 0. 0. 0. 0. 0. 0. 0. 0. 0. 0. 0. 0. 0. 0. 0. 0. 0. 0.\n",
            "  0. 0. 0. 1. 0. 0.]]\n",
            "7\n",
            "7\n",
            "[[0. 0. 0. 0. 0. 0. 0. 0. 0. 0. 0. 0. 0. 0. 0. 0. 0. 0. 0. 0. 0. 0. 0. 0.\n",
            "  0. 0. 0. 1. 0. 0.]]\n",
            "7\n",
            "7\n",
            "[[0. 0. 0. 0. 0. 0. 0. 0. 0. 0. 0. 0. 0. 0. 0. 0. 0. 0. 0. 0. 0. 0. 0. 0.\n",
            "  0. 0. 0. 1. 0. 0.]]\n",
            "7\n",
            "7\n",
            "[[0. 0. 0. 0. 0. 0. 0. 0. 0. 0. 0. 0. 0. 0. 0. 0. 0. 0. 0. 0. 0. 0. 0. 0.\n",
            "  0. 0. 0. 1. 0. 0.]]\n",
            "7\n",
            "7\n",
            "[[0. 0. 0. 0. 0. 0. 0. 0. 0. 0. 0. 0. 0. 0. 0. 0. 0. 0. 0. 0. 0. 0. 0. 0.\n",
            "  0. 0. 0. 1. 0. 0.]]\n",
            "7\n",
            "7\n",
            "[[0. 0. 0. 0. 0. 0. 0. 0. 0. 0. 0. 0. 0. 0. 0. 0. 0. 0. 0. 0. 0. 0. 0. 0.\n",
            "  0. 0. 0. 1. 0. 0.]]\n",
            "7\n",
            "7\n",
            "[[0. 0. 0. 0. 0. 0. 0. 0. 0. 0. 0. 0. 0. 0. 0. 0. 0. 0. 0. 0. 0. 0. 0. 0.\n",
            "  0. 0. 1. 0. 0. 0.]]\n",
            "6\n",
            "6\n",
            "[[0. 0. 0. 0. 0. 0. 0. 0. 0. 0. 0. 0. 0. 0. 0. 0. 0. 0. 0. 0. 0. 0. 0. 0.\n",
            "  0. 0. 1. 0. 0. 0.]]\n",
            "6\n",
            "6\n",
            "[[0. 0. 0. 0. 0. 0. 0. 0. 0. 0. 0. 0. 0. 0. 0. 0. 0. 0. 0. 0. 0. 0. 0. 0.\n",
            "  0. 0. 1. 0. 0. 0.]]\n",
            "6\n",
            "6\n",
            "[[0.00000e+00 0.00000e+00 0.00000e+00 0.00000e+00 0.00000e+00 0.00000e+00\n",
            "  0.00000e+00 0.00000e+00 0.00000e+00 0.00000e+00 0.00000e+00 0.00000e+00\n",
            "  0.00000e+00 0.00000e+00 0.00000e+00 0.00000e+00 0.00000e+00 0.00000e+00\n",
            "  0.00000e+00 1.00000e+00 0.00000e+00 3.76006e-10 0.00000e+00 0.00000e+00\n",
            "  0.00000e+00 0.00000e+00 0.00000e+00 0.00000e+00 0.00000e+00 0.00000e+00]]\n",
            "7\n",
            "27\n",
            "[[0. 0. 0. 0. 0. 0. 0. 0. 0. 0. 0. 0. 0. 0. 0. 0. 0. 0. 0. 0. 0. 1. 0. 0.\n",
            "  0. 0. 0. 0. 0. 0.]]\n",
            "9\n",
            "27\n",
            "[[0. 0. 0. 0. 0. 0. 0. 0. 0. 0. 0. 0. 0. 0. 0. 0. 0. 0. 0. 1. 0. 0. 0. 0.\n",
            "  0. 0. 0. 0. 0. 0.]]\n",
            "7\n",
            "27\n",
            "[[0. 0. 0. 0. 0. 0. 0. 0. 0. 0. 0. 0. 0. 0. 0. 0. 0. 0. 0. 1. 0. 0. 0. 0.\n",
            "  0. 0. 0. 0. 0. 0.]]\n",
            "7\n",
            "27\n",
            "[[0. 0. 0. 0. 0. 1. 0. 0. 0. 0. 0. 0. 0. 0. 0. 0. 0. 0. 0. 0. 0. 0. 0. 0.\n",
            "  0. 0. 0. 0. 0. 0.]]\n",
            "4\n",
            "14\n",
            "[[0. 0. 0. 0. 0. 1. 0. 0. 0. 0. 0. 0. 0. 0. 0. 0. 0. 0. 0. 0. 0. 0. 0. 0.\n",
            "  0. 0. 0. 0. 0. 0.]]\n",
            "4\n",
            "14\n",
            "[[0. 0. 0. 0. 0. 1. 0. 0. 0. 0. 0. 0. 0. 0. 0. 0. 0. 0. 0. 0. 0. 0. 0. 0.\n",
            "  0. 0. 0. 0. 0. 0.]]\n",
            "4\n",
            "14\n",
            "[[0. 0. 0. 0. 0. 1. 0. 0. 0. 0. 0. 0. 0. 0. 0. 0. 0. 0. 0. 0. 0. 0. 0. 0.\n",
            "  0. 0. 0. 0. 0. 0.]]\n",
            "4\n",
            "14\n",
            "[[0. 0. 0. 0. 0. 0. 0. 0. 0. 0. 0. 0. 0. 0. 0. 0. 0. 0. 0. 0. 0. 0. 0. 0.\n",
            "  1. 0. 0. 0. 0. 0.]]\n",
            "4\n",
            "4\n",
            "[[0. 0. 0. 0. 0. 0. 0. 0. 0. 0. 0. 0. 0. 0. 0. 0. 0. 0. 0. 0. 0. 0. 0. 0.\n",
            "  1. 0. 0. 0. 0. 0.]]\n",
            "4\n",
            "4\n",
            "[[1. 0. 0. 0. 0. 0. 0. 0. 0. 0. 0. 0. 0. 0. 0. 0. 0. 0. 0. 0. 0. 0. 0. 0.\n",
            "  0. 0. 0. 0. 0. 0.]]\n",
            "1\n",
            "4\n",
            "[[0. 0. 0. 0. 0. 0. 0. 0. 0. 0. 0. 0. 0. 0. 0. 0. 0. 0. 0. 0. 0. 0. 0. 0.\n",
            "  1. 0. 0. 0. 0. 0.]]\n",
            "4\n",
            "4\n",
            "[[1. 0. 0. 0. 0. 0. 0. 0. 0. 0. 0. 0. 0. 0. 0. 0. 0. 0. 0. 0. 0. 0. 0. 0.\n",
            "  0. 0. 0. 0. 0. 0.]]\n",
            "1\n",
            "1\n",
            "[[1. 0. 0. 0. 0. 0. 0. 0. 0. 0. 0. 0. 0. 0. 0. 0. 0. 0. 0. 0. 0. 0. 0. 0.\n",
            "  0. 0. 0. 0. 0. 0.]]\n",
            "1\n",
            "1\n",
            "[[1. 0. 0. 0. 0. 0. 0. 0. 0. 0. 0. 0. 0. 0. 0. 0. 0. 0. 0. 0. 0. 0. 0. 0.\n",
            "  0. 0. 0. 0. 0. 0.]]\n",
            "1\n",
            "1\n",
            "[[1. 0. 0. 0. 0. 0. 0. 0. 0. 0. 0. 0. 0. 0. 0. 0. 0. 0. 0. 0. 0. 0. 0. 0.\n",
            "  0. 0. 0. 0. 0. 0.]]\n",
            "1\n",
            "1\n",
            "[[1. 0. 0. 0. 0. 0. 0. 0. 0. 0. 0. 0. 0. 0. 0. 0. 0. 0. 0. 0. 0. 0. 0. 0.\n",
            "  0. 0. 0. 0. 0. 0.]]\n",
            "1\n",
            "1\n",
            "[[1. 0. 0. 0. 0. 0. 0. 0. 0. 0. 0. 0. 0. 0. 0. 0. 0. 0. 0. 0. 0. 0. 0. 0.\n",
            "  0. 0. 0. 0. 0. 0.]]\n",
            "1\n",
            "1\n",
            "[[0. 0. 0. 0. 0. 0. 0. 0. 0. 0. 0. 0. 0. 0. 0. 0. 0. 0. 0. 0. 0. 0. 0. 0.\n",
            "  0. 0. 0. 0. 0. 1.]]\n",
            "9\n",
            "8\n",
            "[[0. 0. 0. 0. 0. 0. 0. 0. 0. 0. 0. 0. 0. 0. 0. 0. 0. 0. 0. 0. 0. 0. 0. 0.\n",
            "  0. 0. 0. 0. 0. 1.]]\n",
            "9\n",
            "8\n",
            "[[0. 0. 0. 0. 0. 0. 0. 0. 0. 0. 0. 0. 0. 0. 0. 0. 0. 0. 0. 0. 0. 0. 0. 0.\n",
            "  0. 0. 0. 0. 1. 0.]]\n",
            "8\n",
            "8\n",
            "[[0. 0. 0. 0. 0. 0. 0. 0. 0. 0. 0. 0. 0. 0. 0. 0. 0. 0. 0. 0. 0. 0. 0. 0.\n",
            "  0. 0. 0. 0. 0. 1.]]\n",
            "9\n",
            "8\n",
            "[[0. 0. 0. 0. 0. 0. 0. 0. 0. 0. 0. 0. 0. 0. 0. 0. 0. 0. 0. 0. 0. 0. 0. 1.\n",
            "  0. 0. 0. 0. 0. 0.]]\n",
            "0\n",
            "26\n",
            "[[0.0000000e+00 0.0000000e+00 0.0000000e+00 0.0000000e+00 0.0000000e+00\n",
            "  0.0000000e+00 0.0000000e+00 0.0000000e+00 0.0000000e+00 0.0000000e+00\n",
            "  0.0000000e+00 0.0000000e+00 0.0000000e+00 0.0000000e+00 0.0000000e+00\n",
            "  0.0000000e+00 0.0000000e+00 0.0000000e+00 1.0000000e+00 0.0000000e+00\n",
            "  4.7005808e-33 3.6165962e-31 0.0000000e+00 0.0000000e+00 0.0000000e+00\n",
            "  0.0000000e+00 0.0000000e+00 0.0000000e+00 0.0000000e+00 0.0000000e+00]]\n",
            "6\n",
            "26\n",
            "[[0. 0. 0. 0. 0. 0. 0. 0. 0. 0. 0. 0. 0. 0. 0. 0. 0. 0. 0. 0. 0. 0. 0. 0.\n",
            "  0. 1. 0. 0. 0. 0.]]\n",
            "5\n",
            "26\n",
            "[[0.000000e+00 0.000000e+00 0.000000e+00 7.202618e-24 0.000000e+00\n",
            "  0.000000e+00 0.000000e+00 0.000000e+00 0.000000e+00 0.000000e+00\n",
            "  0.000000e+00 0.000000e+00 0.000000e+00 0.000000e+00 0.000000e+00\n",
            "  0.000000e+00 0.000000e+00 0.000000e+00 1.000000e+00 0.000000e+00\n",
            "  0.000000e+00 0.000000e+00 0.000000e+00 0.000000e+00 0.000000e+00\n",
            "  8.211047e-22 0.000000e+00 0.000000e+00 0.000000e+00 0.000000e+00]]\n",
            "6\n",
            "26\n",
            "[[0. 0. 0. 0. 0. 0. 0. 0. 0. 0. 0. 0. 0. 0. 0. 0. 0. 0. 0. 0. 0. 0. 0. 1.\n",
            "  0. 0. 0. 0. 0. 0.]]\n",
            "0\n",
            "30\n",
            "[[0. 0. 0. 0. 0. 0. 0. 0. 0. 0. 0. 0. 0. 0. 0. 0. 0. 0. 0. 0. 0. 1. 0. 0.\n",
            "  0. 0. 0. 0. 0. 0.]]\n",
            "9\n",
            "30\n",
            "[[0.0000000e+00 0.0000000e+00 0.0000000e+00 0.0000000e+00 0.0000000e+00\n",
            "  0.0000000e+00 0.0000000e+00 0.0000000e+00 0.0000000e+00 0.0000000e+00\n",
            "  0.0000000e+00 0.0000000e+00 0.0000000e+00 0.0000000e+00 0.0000000e+00\n",
            "  0.0000000e+00 0.0000000e+00 0.0000000e+00 9.9999571e-01 0.0000000e+00\n",
            "  0.0000000e+00 4.2888096e-06 0.0000000e+00 4.1767426e-28 0.0000000e+00\n",
            "  0.0000000e+00 0.0000000e+00 0.0000000e+00 0.0000000e+00 0.0000000e+00]]\n",
            "6\n",
            "30\n",
            "[[0. 0. 0. 0. 0. 0. 0. 0. 0. 0. 0. 0. 0. 0. 0. 0. 0. 0. 0. 0. 0. 0. 0. 1.\n",
            "  0. 0. 0. 0. 0. 0.]]\n",
            "0\n",
            "30\n",
            "[[0. 0. 0. 0. 0. 0. 0. 0. 0. 0. 0. 0. 0. 0. 0. 0. 0. 0. 0. 0. 0. 0. 1. 0.\n",
            "  0. 0. 0. 0. 0. 0.]]\n",
            "3\n",
            "3\n",
            "[[0. 0. 0. 0. 0. 0. 0. 0. 0. 0. 0. 0. 0. 0. 0. 0. 0. 0. 0. 0. 0. 0. 1. 0.\n",
            "  0. 0. 0. 0. 0. 0.]]\n",
            "3\n",
            "3\n",
            "[[0. 0. 0. 0. 0. 0. 0. 0. 0. 0. 0. 0. 0. 0. 0. 0. 0. 0. 0. 0. 0. 0. 0. 0.\n",
            "  1. 0. 0. 0. 0. 0.]]\n",
            "4\n",
            "3\n",
            "[[0. 0. 0. 0. 0. 0. 0. 0. 0. 0. 0. 0. 0. 0. 0. 0. 0. 0. 0. 0. 0. 0. 1. 0.\n",
            "  0. 0. 0. 0. 0. 0.]]\n",
            "3\n",
            "3\n",
            "[[0. 0. 0. 0. 0. 0. 0. 0. 0. 0. 0. 0. 0. 0. 1. 0. 0. 0. 0. 0. 0. 0. 0. 0.\n",
            "  0. 0. 0. 0. 0. 0.]]\n",
            "2\n",
            "9\n",
            "[[0. 0. 0. 0. 0. 0. 0. 0. 0. 0. 0. 0. 0. 0. 0. 0. 0. 0. 0. 0. 0. 0. 0. 0.\n",
            "  0. 0. 0. 0. 1. 0.]]\n",
            "8\n",
            "9\n",
            "[[0. 0. 0. 0. 0. 0. 0. 0. 0. 0. 0. 0. 0. 0. 0. 0. 0. 0. 0. 0. 0. 0. 0. 0.\n",
            "  0. 0. 0. 0. 0. 1.]]\n",
            "9\n",
            "9\n",
            "[[0.0000000e+00 0.0000000e+00 0.0000000e+00 0.0000000e+00 0.0000000e+00\n",
            "  0.0000000e+00 0.0000000e+00 0.0000000e+00 0.0000000e+00 0.0000000e+00\n",
            "  0.0000000e+00 0.0000000e+00 0.0000000e+00 0.0000000e+00 0.0000000e+00\n",
            "  0.0000000e+00 0.0000000e+00 0.0000000e+00 0.0000000e+00 0.0000000e+00\n",
            "  0.0000000e+00 0.0000000e+00 0.0000000e+00 0.0000000e+00 0.0000000e+00\n",
            "  0.0000000e+00 0.0000000e+00 0.0000000e+00 3.5215275e-32 1.0000000e+00]]\n",
            "9\n",
            "9\n",
            "[[0. 0. 0. 0. 0. 0. 1. 0. 0. 0. 0. 0. 0. 0. 0. 0. 0. 0. 0. 0. 0. 0. 0. 0.\n",
            "  0. 0. 0. 0. 0. 0.]]\n",
            "5\n",
            "15\n",
            "[[0. 0. 0. 0. 0. 0. 0. 0. 0. 0. 0. 0. 0. 0. 0. 0. 0. 0. 0. 0. 0. 0. 1. 0.\n",
            "  0. 0. 0. 0. 0. 0.]]\n",
            "3\n",
            "15\n",
            "[[0.0000000e+00 0.0000000e+00 0.0000000e+00 0.0000000e+00 1.0000000e+00\n",
            "  0.0000000e+00 0.0000000e+00 0.0000000e+00 0.0000000e+00 0.0000000e+00\n",
            "  0.0000000e+00 0.0000000e+00 0.0000000e+00 0.0000000e+00 0.0000000e+00\n",
            "  0.0000000e+00 0.0000000e+00 0.0000000e+00 0.0000000e+00 0.0000000e+00\n",
            "  0.0000000e+00 0.0000000e+00 0.0000000e+00 0.0000000e+00 0.0000000e+00\n",
            "  0.0000000e+00 1.0127613e-14 0.0000000e+00 0.0000000e+00 0.0000000e+00]]\n",
            "3\n",
            "15\n",
            "[[0.000000e+00 0.000000e+00 0.000000e+00 0.000000e+00 0.000000e+00\n",
            "  0.000000e+00 0.000000e+00 0.000000e+00 0.000000e+00 0.000000e+00\n",
            "  0.000000e+00 0.000000e+00 0.000000e+00 0.000000e+00 0.000000e+00\n",
            "  0.000000e+00 0.000000e+00 0.000000e+00 6.081850e-08 0.000000e+00\n",
            "  0.000000e+00 0.000000e+00 0.000000e+00 0.000000e+00 0.000000e+00\n",
            "  0.000000e+00 0.000000e+00 9.999999e-01 0.000000e+00 0.000000e+00]]\n",
            "7\n",
            "15\n",
            "[[0. 0. 0. 0. 0. 0. 0. 0. 0. 0. 0. 0. 0. 0. 0. 0. 0. 0. 0. 1. 0. 0. 0. 0.\n",
            "  0. 0. 0. 0. 0. 0.]]\n",
            "7\n",
            "17\n",
            "[[0.0000000e+00 0.0000000e+00 0.0000000e+00 0.0000000e+00 0.0000000e+00\n",
            "  0.0000000e+00 0.0000000e+00 0.0000000e+00 0.0000000e+00 0.0000000e+00\n",
            "  0.0000000e+00 0.0000000e+00 0.0000000e+00 0.0000000e+00 0.0000000e+00\n",
            "  0.0000000e+00 1.0000000e+00 0.0000000e+00 0.0000000e+00 0.0000000e+00\n",
            "  0.0000000e+00 0.0000000e+00 0.0000000e+00 0.0000000e+00 0.0000000e+00\n",
            "  0.0000000e+00 4.7759978e-29 0.0000000e+00 0.0000000e+00 0.0000000e+00]]\n",
            "4\n",
            "17\n",
            "[[0.0000000e+00 0.0000000e+00 0.0000000e+00 0.0000000e+00 0.0000000e+00\n",
            "  0.0000000e+00 0.0000000e+00 0.0000000e+00 1.0000000e+00 0.0000000e+00\n",
            "  0.0000000e+00 0.0000000e+00 0.0000000e+00 0.0000000e+00 0.0000000e+00\n",
            "  0.0000000e+00 0.0000000e+00 0.0000000e+00 0.0000000e+00 5.5207907e-26\n",
            "  0.0000000e+00 0.0000000e+00 0.0000000e+00 0.0000000e+00 0.0000000e+00\n",
            "  0.0000000e+00 0.0000000e+00 0.0000000e+00 0.0000000e+00 0.0000000e+00]]\n",
            "7\n",
            "17\n",
            "[[0. 0. 0. 0. 0. 0. 0. 0. 0. 0. 0. 0. 0. 0. 0. 0. 1. 0. 0. 0. 0. 0. 0. 0.\n",
            "  0. 0. 0. 0. 0. 0.]]\n",
            "4\n",
            "17\n",
            "{'1': {'correct': 0, 'wrong': 11, 'total_imgs': 6}, '2': {'correct': 6, 'wrong': 4, 'total_imgs': 7}, '3': {'correct': 5, 'wrong': 9, 'total_imgs': 4}, '4': {'correct': 3, 'wrong': 6, 'total_imgs': 4}, '5': {'correct': 3, 'wrong': 10, 'total_imgs': 4}, '6': {'correct': 4, 'wrong': 8, 'total_imgs': 3}, '7': {'correct': 3, 'wrong': 6, 'total_imgs': 6}, '8': {'correct': 6, 'wrong': 10, 'total_imgs': 4}, '9': {'correct': 1, 'wrong': 11, 'total_imgs': 4}, '10': {'correct': 2, 'wrong': 15, 'total_imgs': 5}, '11': {'correct': 0, 'wrong': 0, 'total_imgs': 3}, '12': {'correct': 0, 'wrong': 0, 'total_imgs': 3}, '13': {'correct': 0, 'wrong': 0, 'total_imgs': 3}, '14': {'correct': 0, 'wrong': 0, 'total_imgs': 4}, '15': {'correct': 0, 'wrong': 0, 'total_imgs': 4}, '16': {'correct': 0, 'wrong': 0, 'total_imgs': 6}, '17': {'correct': 0, 'wrong': 0, 'total_imgs': 4}, '18': {'correct': 0, 'wrong': 0, 'total_imgs': 5}, '19': {'correct': 0, 'wrong': 0, 'total_imgs': 4}, '20': {'correct': 0, 'wrong': 0, 'total_imgs': 3}, '21': {'correct': 0, 'wrong': 0, 'total_imgs': 1}, '22': {'correct': 0, 'wrong': 0, 'total_imgs': 6}, '23': {'correct': 0, 'wrong': 0, 'total_imgs': 3}, '24': {'correct': 0, 'wrong': 0, 'total_imgs': 3}, '25': {'correct': 0, 'wrong': 0, 'total_imgs': 4}, '26': {'correct': 0, 'wrong': 0, 'total_imgs': 4}, '27': {'correct': 0, 'wrong': 0, 'total_imgs': 4}, '28': {'correct': 0, 'wrong': 0, 'total_imgs': 4}, '29': {'correct': 0, 'wrong': 0, 'total_imgs': 4}, '30': {'correct': 0, 'wrong': 0, 'total_imgs': 4}}\n",
            "Number of correct predictions:  33\n",
            "Number of wrong predictions:  90\n",
            "Accuracy on test set: 0.27\n"
          ]
        }
      ]
    },
    {
      "cell_type": "markdown",
      "source": [
        "# Model 2: FaceNet for face recognition"
      ],
      "metadata": {
        "id": "C7f9MXcZfhB5"
      }
    },
    {
      "cell_type": "markdown",
      "source": [
        "## Image reading for FaceNet"
      ],
      "metadata": {
        "id": "T_bccjmv4WzR"
      }
    },
    {
      "cell_type": "code",
      "source": [
        "#Reference: https://www.youtube.com/watch?v=zBOavqh3kWU\n",
        "from keras.preprocessing.image import ImageDataGenerator #image augmentation (make new images)\n",
        "\n",
        "#we are doing flipping, rescaling and other transformations to increase size of dataset since we don't have enough images in our dataset.\n",
        "BATCH_SIZE = 32\n",
        "\n",
        "train_augmentation = ImageDataGenerator(\n",
        "        rescale = 1./255,\n",
        "        rotation_range = 20,\n",
        "        shear_range= 0.2,\n",
        "        zoom_range= 0.2,\n",
        "        horizontal_flip=True,\n",
        "        #vertical_flip = True,\n",
        "        width_shift_range=0.2, \n",
        "        height_shift_range=0.2, \n",
        "        brightness_range=[0.6,1.4], \n",
        "        fill_mode = \"constant\"\n",
        "        )\n",
        "\n",
        "test_augmentation = ImageDataGenerator(rescale=1./255)\n",
        "\n",
        "#flow_from_directory() will get images on the fly, these augmented images are not stored in google drive\n",
        "training_setfacenet = train_augmentation.flow_from_directory(\n",
        "        '/content/gdrive/My Drive/Deep Learning Project/data/train_new/',\n",
        "        target_size = (160, 160),\n",
        "        batch_size = BATCH_SIZE,\n",
        "        class_mode='categorical', \n",
        "        seed = 42)\n",
        "\n",
        "validation_setfacenet = test_augmentation.flow_from_directory(\n",
        "        '/content/gdrive/My Drive/Deep Learning Project/data/valid_new/',\n",
        "        target_size=(160, 160),\n",
        "        batch_size = BATCH_SIZE,\n",
        "        class_mode='categorical')\n",
        "\n",
        "test_setfacenet = test_augmentation.flow_from_directory(\n",
        "        '/content/gdrive/My Drive/Deep Learning Project/data/test_new/',\n",
        "        target_size=(160, 160),\n",
        "        batch_size = BATCH_SIZE,\n",
        "        class_mode='categorical')\n",
        "\n",
        "\n",
        "label_map = training_setfacenet.class_indices\n",
        "label_map"
      ],
      "metadata": {
        "colab": {
          "base_uri": "https://localhost:8080/"
        },
        "id": "8c-Kguaq40Kz",
        "outputId": "7818882e-6aeb-4422-e1fa-2e2911f83173"
      },
      "execution_count": 23,
      "outputs": [
        {
          "output_type": "stream",
          "name": "stdout",
          "text": [
            "Found 916 images belonging to 30 classes.\n",
            "Found 124 images belonging to 30 classes.\n",
            "Found 123 images belonging to 30 classes.\n"
          ]
        },
        {
          "output_type": "execute_result",
          "data": {
            "text/plain": [
              "{'actor_1': 0,\n",
              " 'actor_10': 1,\n",
              " 'actor_11': 2,\n",
              " 'actor_12': 3,\n",
              " 'actor_13': 4,\n",
              " 'actor_14': 5,\n",
              " 'actor_15': 6,\n",
              " 'actor_16': 7,\n",
              " 'actor_17': 8,\n",
              " 'actor_18': 9,\n",
              " 'actor_19': 10,\n",
              " 'actor_2': 11,\n",
              " 'actor_20': 12,\n",
              " 'actor_21': 13,\n",
              " 'actor_22': 14,\n",
              " 'actor_23': 15,\n",
              " 'actor_24': 16,\n",
              " 'actor_25': 17,\n",
              " 'actor_26': 18,\n",
              " 'actor_27': 19,\n",
              " 'actor_28': 20,\n",
              " 'actor_29': 21,\n",
              " 'actor_3': 22,\n",
              " 'actor_30': 23,\n",
              " 'actor_4': 24,\n",
              " 'actor_5': 25,\n",
              " 'actor_6': 26,\n",
              " 'actor_7': 27,\n",
              " 'actor_8': 28,\n",
              " 'actor_9': 29}"
            ]
          },
          "metadata": {},
          "execution_count": 23
        }
      ]
    },
    {
      "cell_type": "markdown",
      "source": [
        "Reference: https://machinelearningmastery.com/how-to-develop-a-face-recognition-system-using-facenet-in-keras-and-an-svm-classifier/"
      ],
      "metadata": {
        "id": "d6e-41Y99cye"
      }
    },
    {
      "cell_type": "code",
      "source": [
        "import os\n",
        "import matplotlib.pyplot as plt\n",
        "from numpy import asarray \n",
        "from PIL import Image\n",
        "import cv2\n",
        "\n",
        "\n",
        "# load images of faces in a directory (basically an actor directory within train_new, valid_new or test_new)\n",
        "def load_faces(directory, required_size = (160, 160)):\n",
        "  faces = list()\n",
        "  # enumerate files\n",
        "  print(os.listdir(directory))\n",
        "  for filename in os.listdir(directory):\n",
        "    # path\n",
        "    path = directory + filename\n",
        "    \n",
        "    image = Image.open(path) # load image from file\n",
        "    image = image.convert('RGB')     # convert to RGB, if needed\n",
        "\n",
        "    #image = Image.fromarray(face)\n",
        "    image = image.resize(required_size)\n",
        "\n",
        "    face_array = asarray(image)\n",
        "    faces.append(face_array)\n",
        "  return faces\n",
        "\n",
        "\n",
        "# load a dataset that contains one subdir for each class that in turn contains images\n",
        "def load_dataset(directory):\n",
        "  X, y = list(), list()\n",
        "  #faces, labels = list(), list()\n",
        "  # enumerate folders, on per class\n",
        "  for subdir in os.listdir(directory):\n",
        "    # path\n",
        "    path = directory + subdir + '/'\n",
        "    \n",
        "    # skip any files that might be in the dir\n",
        "    if not os.path.isdir(path):\n",
        "      continue\n",
        "    \n",
        "    # load all faces in the subdirectory\n",
        "    faces = load_faces(path)\n",
        "\n",
        "    # create labels\n",
        "    labels = [subdir for _ in range(len(faces))]\n",
        "    # summarize progress\n",
        "    print('loaded %d examples for class: %s' % (len(faces), subdir))\n",
        "    # store\n",
        "    X.extend(faces)\n",
        "    y.extend(labels)\n",
        "  return asarray(X), asarray(y)"
      ],
      "metadata": {
        "id": "AfpxztE23_qZ"
      },
      "execution_count": 24,
      "outputs": []
    },
    {
      "cell_type": "code",
      "source": [
        "trainX, trainY = load_dataset(\"/content/gdrive/My Drive/Deep Learning Project/data/train_new/\")"
      ],
      "metadata": {
        "colab": {
          "base_uri": "https://localhost:8080/"
        },
        "id": "Uykd2zRq-P2h",
        "outputId": "a3e64e99-dcc6-4dd2-e3c3-273ebdde2e8a"
      },
      "execution_count": 26,
      "outputs": [
        {
          "output_type": "stream",
          "name": "stdout",
          "text": [
            "['919.png', '915.png', '912.png', '930.png', '906.png', '918.png', '936.png', '910.png', '908.png', '909.png', '934.png', '928.png', '914.png', '924.png', '905.png', '923.png', '913.png', '932.png', '927.png', '916.png', '922.png', '935.png', '911.png', '925.png', '907.png', '926.png', '920.png']\n",
            "loaded 27 examples for class: actor_27\n",
            "['1030.png', '1040.png', '1028.png', '1026.png', '1025.png', '1035.png', '1034.png', '1013.png', '1011.png', '1022.png', '1017.png', '1016.png', '1031.png', '1038.png', '1041.png', '1029.png', '1012.png', '1037.png', '1044.png', '1039.png', '1015.png', '1043.png', '1033.png', '1021.png', '1032.png', '1010.png', '1020.png', '1036.png', '1023.png', '1042.png', '1019.png', '1014.png', '1018.png', '1027.png']\n",
            "loaded 34 examples for class: actor_30\n",
            "['835.png', '831.png', '824.png', '838.png', '845.png', '836.png', '841.png', '837.png', '825.png', '820.png', '839.png', '828.png', '819.png', '821.png', '848.png', '833.png', '840.png', '830.png', '842.png', '826.png', '829.png', '847.png', '844.png', '843.png', '818.png', '846.png', '823.png', '832.png']\n",
            "loaded 28 examples for class: actor_24\n",
            "['805.png', '816.png', '813.png', '812.png', '800.png', '793.png', '797.png', '806.png', '789.png', '792.png', '787.png', '794.png', '790.png', '814.png', '785.png', '786.png', '810.png', '798.png', '788.png', '802.png', '815.png', '795.png', '807.png', '796.png', '817.png', '791.png', '809.png', '811.png', '808.png', '803.png', '799.png']\n",
            "loaded 31 examples for class: actor_23\n",
            "['415.png', '424.png', '401.png', '404.png', '385.png', '400.png', '390.png', '396.png', '420.png', '416.png', '419.png', '387.png', '425.png', '399.png', '417.png', '411.png', '406.png', '388.png', '418.png', '413.png', '395.png', '412.png', '409.png', '386.png', '393.png', '423.png', '398.png', '421.png', '408.png', '405.png', '410.png', '414.png', '407.png', '397.png']\n",
            "loaded 34 examples for class: actor_10\n",
            "['497.png', '502.png', '480.png', '492.png', '484.png', '482.png', '481.png', '493.png', '495.png', '478.png', '501.png', '487.png', '500.png', '506.png', '488.png', '485.png', '498.png', '491.png', '496.png', '489.png', '479.png', '494.png', '499.png', '505.png', '486.png', '503.png', '504.png']\n",
            "loaded 27 examples for class: actor_13\n",
            "['192.png', '194.png', '176.png', '198.png', '168.png', '171.png', '196.png', '193.png', '221.png', '175.png', '197.png', '191.png', '213.png', '203.png', '210.png', '218.png', '211.png', '219.png', '166.png', '212.png', '180.png', '216.png', '207.png', '181.png', '167.png', '205.png', '208.png', '190.png', '183.png', '215.png', '224.png', '209.png', '169.png', '189.png', '220.png', '187.png', '222.png', '174.png', '202.png']\n",
            "loaded 39 examples for class: actor_5\n",
            "['369.png', '374.png', '381.png', '380.png', '370.png', '368.png', '364.png', '384.png', '379.png', '351.png', '350.png', '373.png', '353.png', '372.png', '367.png', '363.png', '383.png', '355.png', '359.png', '358.png', '382.png', '371.png', '366.png', '376.png', '362.png', '360.png', '352.png', '365.png', '354.png', '356.png', '375.png', '361.png']\n",
            "loaded 32 examples for class: actor_9\n",
            "['956.png', '937.png', '939.png', '969.png', '964.png', '977.png', '975.png', '951.png', '957.png', '963.png', '946.png', '953.png', '970.png', '979.png', '959.png', '942.png', '947.png', '971.png', '962.png', '948.png', '952.png', '960.png', '972.png', '954.png', '966.png', '949.png', '944.png', '965.png', '961.png', '967.png', '943.png', '955.png', '980.png', '945.png', '940.png', '974.png']\n",
            "loaded 36 examples for class: actor_28\n",
            "['443.png', '431.png', '442.png', '441.png', '433.png', '438.png', '444.png', '427.png', '446.png', '437.png', '426.png', '436.png', '432.png', '434.png', '435.png', '448.png', '428.png', '430.png', '439.png', '445.png', '429.png', '447.png', '440.png']\n",
            "loaded 23 examples for class: actor_11\n",
            "['631.png', '649.png', '645.png', '647.png', '651.png', '653.png', '641.png', '637.png', '661.png', '654.png', '656.png', '668.png', '667.png', '659.png', '669.png', '658.png', '644.png', '652.png', '638.png', '632.png', '655.png', '640.png', '660.png', '670.png', '646.png', '664.png', '663.png', '665.png', '636.png', '662.png', '635.png', '642.png', '630.png', '674.png', '650.png', '639.png', '634.png', '672.png', '629.png', '657.png', '643.png']\n",
            "loaded 41 examples for class: actor_18\n",
            "['773.png', '754.png', '750.png', '752.png', '749.png', '772.png', '781.png', '777.png', '744.png', '780.png', '767.png', '766.png', '745.png', '761.png', '769.png', '783.png', '768.png', '757.png', '776.png', '779.png', '784.png', '771.png', '762.png', '778.png', '756.png', '748.png', '764.png', '746.png', '774.png', '770.png', '758.png', '763.png', '751.png', '765.png', '755.png', '760.png', '759.png', '747.png']\n",
            "loaded 38 examples for class: actor_22\n",
            "['714.png', '715.png', '719.png', '721.png', '712.png', '716.png', '707.png', '723.png', '702.png', '717.png', '713.png', '720.png', '703.png', '722.png', '708.png', '704.png', '710.png', '711.png', '705.png', '706.png', '709.png', '718.png']\n",
            "loaded 22 examples for class: actor_20\n",
            "['618.png', '622.png', '600.png', '607.png', '625.png', '606.png', '620.png', '602.png', '621.png', '605.png', '609.png', '615.png', '613.png', '612.png', '608.png', '627.png', '610.png', '623.png', '614.png', '617.png', '628.png', '603.png', '604.png', '624.png', '626.png']\n",
            "loaded 25 examples for class: actor_17\n",
            "['599.png', '595.png', '596.png', '598.png', '583.png', '593.png', '576.png', '597.png', '570.png', '580.png', '586.png', '578.png', '573.png', '591.png', '575.png', '569.png', '587.png', '572.png', '592.png', '589.png', '582.png', '585.png', '584.png']\n",
            "loaded 23 examples for class: actor_16\n",
            "['520.png', '517.png', '537.png', '532.png', '513.png', '511.png', '530.png', '515.png', '526.png', '510.png', '534.png', '536.png', '528.png', '524.png', '518.png', '531.png', '523.png', '527.png', '533.png', '525.png', '509.png', '538.png', '508.png', '516.png', '521.png', '512.png', '514.png', '519.png', '507.png', '522.png', '535.png', '529.png']\n",
            "loaded 32 examples for class: actor_14\n",
            "['681.png', '683.png', '688.png', '677.png', '695.png', '690.png', '699.png', '685.png', '694.png', '697.png', '700.png', '684.png', '687.png', '696.png', '686.png', '680.png', '689.png', '692.png', '682.png', '691.png', '675.png', '701.png', '679.png', '698.png', '676.png', '693.png', '678.png']\n",
            "loaded 27 examples for class: actor_19\n",
            "['74.png', '56.png', '70.png', '96.png', '57.png', '61.png', '72.png', '55.png', '58.png', '93.png', '90.png', '94.png', '75.png', '95.png', '67.png', '81.png', '91.png', '78.png', '89.png', '80.png', '66.png', '73.png', '76.png', '88.png', '83.png', '79.png', '87.png', '64.png', '71.png', '63.png', '92.png', '65.png', '85.png', '77.png', '86.png']\n",
            "loaded 35 examples for class: actor_2\n",
            "['246.png', '250.png', '236.png', '227.png', '230.png', '228.png', '238.png', '233.png', '248.png', '239.png', '244.png', '231.png', '245.png', '247.png', '229.png', '242.png', '249.png', '232.png', '235.png', '237.png', '241.png', '240.png', '243.png']\n",
            "loaded 23 examples for class: actor_6\n",
            "['451.png', '463.png', '457.png', '456.png', '477.png', '462.png', '466.png', '469.png', '460.png', '468.png', '472.png', '467.png', '455.png', '458.png', '453.png', '465.png', '449.png', '473.png', '464.png', '452.png', '476.png', '454.png', '459.png', '450.png', '475.png', '471.png']\n",
            "loaded 26 examples for class: actor_12\n",
            "['561.png', '557.png', '568.png', '547.png', '555.png', '553.png', '551.png', '567.png', '558.png', '549.png', '542.png', '539.png', '546.png', '565.png', '541.png', '545.png', '548.png', '559.png', '550.png', '543.png', '544.png', '562.png', '540.png', '556.png', '552.png', '563.png', '554.png', '564.png', '566.png', '560.png']\n",
            "loaded 30 examples for class: actor_15\n",
            "['100.png', '107.png', '133.png', '120.png', '137.png', '114.png', '117.png', '116.png', '106.png', '119.png', '109.png', '115.png', '132.png', '101.png', '130.png', '118.png', '127.png', '112.png', '103.png', '99.png', '96.png', '122.png', '135.png', '126.png', '121.png', '131.png', '97.png', '125.png', '108.png', '111.png', '136.png', '110.png', '104.png', '129.png', '124.png', '113.png', '102.png', '128.png']\n",
            "loaded 38 examples for class: actor_3\n",
            "['7.png', '54.png', '30.png', '32.png', '41.png', '46.png', '23.png', '43.png', '8.png', '37.png', '16.png', '19.png', '50.png', '5.png', '18.png', '1.png', '25.png', '21.png', '35.png', '3.png', '20.png', '27.png', '26.png', '49.png', '31.png', '28.png', '6.png', '17.png', '29.png', '11.png', '10.png', '39.png', '53.png', '40.png', '42.png', '2.png', '13.png', '47.png', '52.png', '36.png', '14.png', '9.png', '0.png', '45.png', '22.png', '44.png', '33.png']\n",
            "loaded 47 examples for class: actor_1\n",
            "['142.png', '140.png', '162.png', '157.png', '154.png', '163.png', '165.png', '159.png', '155.png', '153.png', '141.png', '144.png', '149.png', '152.png', '156.png', '137.png', '139.png', '150.png', '145.png', '138.png', '164.png', '158.png', '160.png', '161.png', '166.png', '151.png']\n",
            "loaded 26 examples for class: actor_4\n",
            "['739.png', '742.png', '735.png', '726.png', '737.png', '733.png', '725.png', '728.png', '730.png', '727.png', '736.png', '731.png', '729.png', '734.png', '740.png', '724.png', '738.png']\n",
            "loaded 17 examples for class: actor_21\n",
            "['879.png', '878.png', '898.png', '880.png', '884.png', '901.png', '881.png', '887.png', '904.png', '895.png', '890.png', '902.png', '893.png', '899.png', '885.png', '888.png', '882.png', '889.png', '894.png', '891.png', '896.png', '900.png', '897.png']\n",
            "loaded 23 examples for class: actor_26\n",
            "['858.png', '867.png', '855.png', '876.png', '850.png', '861.png', '874.png', '857.png', '871.png', '849.png', '860.png', '852.png', '872.png', '856.png', '864.png', '862.png', '870.png', '863.png', '865.png', '873.png', '853.png', '866.png', '869.png', '868.png', '854.png', '851.png', '859.png', '877.png', '875.png']\n",
            "loaded 29 examples for class: actor_25\n",
            "['340.png', '344.png', '337.png', '331.png', '349.png', '342.png', '334.png', '330.png', '332.png', '341.png', '347.png', '327.png', '329.png', '339.png', '338.png', '335.png', '343.png', '333.png', '328.png', '336.png']\n",
            "loaded 20 examples for class: actor_8\n",
            "['316.png', '275.png', '266.png', '308.png', '282.png', '324.png', '253.png', '288.png', '294.png', '290.png', '274.png', '271.png', '319.png', '302.png', '289.png', '278.png', '272.png', '265.png', '323.png', '285.png', '273.png', '322.png', '276.png', '317.png', '267.png', '280.png', '263.png', '277.png', '269.png', '304.png', '303.png', '298.png', '279.png', '309.png', '286.png', '264.png', '318.png', '270.png', '261.png', '287.png', '312.png', '321.png', '300.png', '296.png', '254.png', '293.png', '301.png', '306.png', '292.png', '252.png', '284.png', '268.png', '326.png', '314.png', '311.png', '291.png', '307.png', '281.png', '258.png', '262.png', '320.png']\n",
            "loaded 61 examples for class: actor_7\n",
            "['990.png', '1006.png', '981.png', '994.png', '983.png', '988.png', '996.png', '992.png', '1002.png', '997.png', '1004.png', '982.png', '989.png', '1007.png', '1003.png', '993.png', '1008.png', '1001.png', '987.png', '1005.png', '1009.png', '986.png']\n",
            "loaded 22 examples for class: actor_29\n"
          ]
        }
      ]
    },
    {
      "cell_type": "code",
      "source": [
        "print(trainX.shape)\n",
        "print(trainY.shape)"
      ],
      "metadata": {
        "colab": {
          "base_uri": "https://localhost:8080/"
        },
        "id": "v_DD6X4n_15F",
        "outputId": "06214dd7-765d-46f2-df59-5586efff0778"
      },
      "execution_count": 27,
      "outputs": [
        {
          "output_type": "stream",
          "name": "stdout",
          "text": [
            "(916, 160, 160, 3)\n",
            "(916,)\n"
          ]
        }
      ]
    },
    {
      "cell_type": "code",
      "source": [
        "print(trainX)\n",
        "print(trainY)"
      ],
      "metadata": {
        "colab": {
          "base_uri": "https://localhost:8080/"
        },
        "id": "CmtA0K_xClv7",
        "outputId": "e13936e0-07f0-4142-fa7b-dcaa97be85cb"
      },
      "execution_count": 28,
      "outputs": [
        {
          "output_type": "stream",
          "name": "stdout",
          "text": [
            "[[[[ 94 107 112]\n",
            "   [ 92 107 113]\n",
            "   [ 89 106 114]\n",
            "   ...\n",
            "   [ 59  58  64]\n",
            "   [ 60  59  65]\n",
            "   [ 59  58  64]]\n",
            "\n",
            "  [[ 95 108 114]\n",
            "   [ 93 108 115]\n",
            "   [ 90 107 114]\n",
            "   ...\n",
            "   [ 60  59  65]\n",
            "   [ 59  58  65]\n",
            "   [ 60  59  67]]\n",
            "\n",
            "  [[ 96 108 116]\n",
            "   [ 93 107 114]\n",
            "   [ 90 108 112]\n",
            "   ...\n",
            "   [ 59  58  64]\n",
            "   [ 59  58  64]\n",
            "   [ 59  58  65]]\n",
            "\n",
            "  ...\n",
            "\n",
            "  [[ 30  30  32]\n",
            "   [ 29  29  31]\n",
            "   [ 28  28  30]\n",
            "   ...\n",
            "   [252 253 255]\n",
            "   [253 254 255]\n",
            "   [254 255 255]]\n",
            "\n",
            "  [[ 30  30  32]\n",
            "   [ 29  29  33]\n",
            "   [ 29  29  31]\n",
            "   ...\n",
            "   [252 253 255]\n",
            "   [253 254 255]\n",
            "   [254 255 255]]\n",
            "\n",
            "  [[ 30  31  34]\n",
            "   [ 30  31  35]\n",
            "   [ 30  30  32]\n",
            "   ...\n",
            "   [252 253 255]\n",
            "   [252 253 255]\n",
            "   [253 254 255]]]\n",
            "\n",
            "\n",
            " [[[133 117 111]\n",
            "   [136 118 110]\n",
            "   [138 119 111]\n",
            "   ...\n",
            "   [ 78  76  77]\n",
            "   [ 76  74  75]\n",
            "   [ 75  73  74]]\n",
            "\n",
            "  [[134 114 108]\n",
            "   [134 113 105]\n",
            "   [141 118 108]\n",
            "   ...\n",
            "   [ 76  74  75]\n",
            "   [ 76  74  75]\n",
            "   [ 74  72  73]]\n",
            "\n",
            "  [[137 116 107]\n",
            "   [136 112 101]\n",
            "   [140 113 102]\n",
            "   ...\n",
            "   [ 72  70  71]\n",
            "   [ 74  72  73]\n",
            "   [ 79  77  78]]\n",
            "\n",
            "  ...\n",
            "\n",
            "  [[  5   5   5]\n",
            "   [  5   5   5]\n",
            "   [  5   5   5]\n",
            "   ...\n",
            "   [ 86  91 102]\n",
            "   [ 84  87  94]\n",
            "   [ 90  94  97]]\n",
            "\n",
            "  [[  7   7   7]\n",
            "   [  6   6   6]\n",
            "   [  6   6   6]\n",
            "   ...\n",
            "   [ 91  96 106]\n",
            "   [ 99 103 108]\n",
            "   [108 112 113]]\n",
            "\n",
            "  [[  7   7   7]\n",
            "   [  7   7   7]\n",
            "   [  7   7   7]\n",
            "   ...\n",
            "   [ 93  99 108]\n",
            "   [ 97 101 105]\n",
            "   [107 111 112]]]\n",
            "\n",
            "\n",
            " [[[  4   0   3]\n",
            "   [  4   0   3]\n",
            "   [  3   0   3]\n",
            "   ...\n",
            "   [  2   1   0]\n",
            "   [  2   1   0]\n",
            "   [  2   1   0]]\n",
            "\n",
            "  [[  4   0   3]\n",
            "   [  4   0   3]\n",
            "   [  3   0   3]\n",
            "   ...\n",
            "   [  2   1   0]\n",
            "   [  2   1   0]\n",
            "   [  2   1   0]]\n",
            "\n",
            "  [[  4   0   3]\n",
            "   [  4   0   3]\n",
            "   [  3   0   3]\n",
            "   ...\n",
            "   [  2   0   0]\n",
            "   [  1   0   0]\n",
            "   [  1   0   0]]\n",
            "\n",
            "  ...\n",
            "\n",
            "  [[184 204 224]\n",
            "   [181 201 222]\n",
            "   [176 196 217]\n",
            "   ...\n",
            "   [211 238 251]\n",
            "   [210 238 252]\n",
            "   [210 238 252]]\n",
            "\n",
            "  [[184 205 226]\n",
            "   [181 202 223]\n",
            "   [175 197 218]\n",
            "   ...\n",
            "   [213 242 255]\n",
            "   [212 242 255]\n",
            "   [212 241 255]]\n",
            "\n",
            "  [[184 207 228]\n",
            "   [181 204 225]\n",
            "   [175 197 218]\n",
            "   ...\n",
            "   [215 243 255]\n",
            "   [214 243 255]\n",
            "   [214 243 255]]]\n",
            "\n",
            "\n",
            " ...\n",
            "\n",
            "\n",
            " [[[ 35  26  22]\n",
            "   [ 38  27  23]\n",
            "   [ 46  34  28]\n",
            "   ...\n",
            "   [ 26  22  20]\n",
            "   [ 37  33  32]\n",
            "   [ 37  32  32]]\n",
            "\n",
            "  [[ 37  28  25]\n",
            "   [ 41  30  27]\n",
            "   [ 46  33  30]\n",
            "   ...\n",
            "   [ 34  28  28]\n",
            "   [ 34  28  28]\n",
            "   [ 29  25  23]]\n",
            "\n",
            "  [[ 43  32  30]\n",
            "   [ 40  29  25]\n",
            "   [ 43  34  29]\n",
            "   ...\n",
            "   [ 33  26  27]\n",
            "   [ 34  28  28]\n",
            "   [ 39  33  32]]\n",
            "\n",
            "  ...\n",
            "\n",
            "  [[230 221 217]\n",
            "   [219 209 203]\n",
            "   [163 143 137]\n",
            "   ...\n",
            "   [211 194 187]\n",
            "   [211 194 187]\n",
            "   [211 195 188]]\n",
            "\n",
            "  [[187 170 163]\n",
            "   [120  97  85]\n",
            "   [ 73  43  27]\n",
            "   ...\n",
            "   [211 194 187]\n",
            "   [211 193 189]\n",
            "   [210 194 187]]\n",
            "\n",
            "  [[ 82  54  40]\n",
            "   [ 73  41  26]\n",
            "   [ 78  46  30]\n",
            "   ...\n",
            "   [212 195 187]\n",
            "   [212 195 188]\n",
            "   [210 193 186]]]\n",
            "\n",
            "\n",
            " [[[213 209 208]\n",
            "   [213 209 208]\n",
            "   [213 209 208]\n",
            "   ...\n",
            "   [ 41  26  31]\n",
            "   [ 43  28  33]\n",
            "   [ 44  29  34]]\n",
            "\n",
            "  [[213 209 208]\n",
            "   [213 209 208]\n",
            "   [213 209 208]\n",
            "   ...\n",
            "   [ 41  26  31]\n",
            "   [ 39  24  29]\n",
            "   [ 38  23  28]]\n",
            "\n",
            "  [[213 209 208]\n",
            "   [213 209 208]\n",
            "   [213 209 208]\n",
            "   ...\n",
            "   [ 40  23  30]\n",
            "   [ 36  22  26]\n",
            "   [ 35  21  25]]\n",
            "\n",
            "  ...\n",
            "\n",
            "  [[ 59  48  52]\n",
            "   [ 40  27  33]\n",
            "   [122 115 116]\n",
            "   ...\n",
            "   [211 206 201]\n",
            "   [209 205 199]\n",
            "   [210 203 198]]\n",
            "\n",
            "  [[ 54  43  45]\n",
            "   [ 41  30  32]\n",
            "   [177 172 173]\n",
            "   ...\n",
            "   [214 209 205]\n",
            "   [214 208 204]\n",
            "   [212 207 203]]\n",
            "\n",
            "  [[ 44  33  36]\n",
            "   [ 75  65  67]\n",
            "   [215 211 211]\n",
            "   ...\n",
            "   [218 210 207]\n",
            "   [219 211 207]\n",
            "   [218 211 207]]]\n",
            "\n",
            "\n",
            " [[[ 18  13   9]\n",
            "   [ 18  13   9]\n",
            "   [ 18  13   9]\n",
            "   ...\n",
            "   [ 55  22  16]\n",
            "   [ 55  22  16]\n",
            "   [ 55  22  17]]\n",
            "\n",
            "  [[ 18  13   9]\n",
            "   [ 18  13   9]\n",
            "   [ 18  13   9]\n",
            "   ...\n",
            "   [ 55  22  15]\n",
            "   [ 55  22  15]\n",
            "   [ 55  22  17]]\n",
            "\n",
            "  [[ 18  13   8]\n",
            "   [ 18  13   8]\n",
            "   [ 18  13   8]\n",
            "   ...\n",
            "   [ 55  22  14]\n",
            "   [ 55  22  14]\n",
            "   [ 55  22  14]]\n",
            "\n",
            "  ...\n",
            "\n",
            "  [[  0  11   3]\n",
            "   [  0  11   3]\n",
            "   [  0  11   3]\n",
            "   ...\n",
            "   [ 99  51  35]\n",
            "   [ 99  51  35]\n",
            "   [100  52  36]]\n",
            "\n",
            "  [[  0  11   3]\n",
            "   [  0  11   3]\n",
            "   [  0  11   3]\n",
            "   ...\n",
            "   [100  51  36]\n",
            "   [100  52  36]\n",
            "   [101  52  37]]\n",
            "\n",
            "  [[  0  11   3]\n",
            "   [  0  11   3]\n",
            "   [  0  11   3]\n",
            "   ...\n",
            "   [100  51  36]\n",
            "   [101  52  36]\n",
            "   [102  52  37]]]]\n",
            "['actor_27' 'actor_27' 'actor_27' 'actor_27' 'actor_27' 'actor_27'\n",
            " 'actor_27' 'actor_27' 'actor_27' 'actor_27' 'actor_27' 'actor_27'\n",
            " 'actor_27' 'actor_27' 'actor_27' 'actor_27' 'actor_27' 'actor_27'\n",
            " 'actor_27' 'actor_27' 'actor_27' 'actor_27' 'actor_27' 'actor_27'\n",
            " 'actor_27' 'actor_27' 'actor_27' 'actor_30' 'actor_30' 'actor_30'\n",
            " 'actor_30' 'actor_30' 'actor_30' 'actor_30' 'actor_30' 'actor_30'\n",
            " 'actor_30' 'actor_30' 'actor_30' 'actor_30' 'actor_30' 'actor_30'\n",
            " 'actor_30' 'actor_30' 'actor_30' 'actor_30' 'actor_30' 'actor_30'\n",
            " 'actor_30' 'actor_30' 'actor_30' 'actor_30' 'actor_30' 'actor_30'\n",
            " 'actor_30' 'actor_30' 'actor_30' 'actor_30' 'actor_30' 'actor_30'\n",
            " 'actor_30' 'actor_24' 'actor_24' 'actor_24' 'actor_24' 'actor_24'\n",
            " 'actor_24' 'actor_24' 'actor_24' 'actor_24' 'actor_24' 'actor_24'\n",
            " 'actor_24' 'actor_24' 'actor_24' 'actor_24' 'actor_24' 'actor_24'\n",
            " 'actor_24' 'actor_24' 'actor_24' 'actor_24' 'actor_24' 'actor_24'\n",
            " 'actor_24' 'actor_24' 'actor_24' 'actor_24' 'actor_24' 'actor_23'\n",
            " 'actor_23' 'actor_23' 'actor_23' 'actor_23' 'actor_23' 'actor_23'\n",
            " 'actor_23' 'actor_23' 'actor_23' 'actor_23' 'actor_23' 'actor_23'\n",
            " 'actor_23' 'actor_23' 'actor_23' 'actor_23' 'actor_23' 'actor_23'\n",
            " 'actor_23' 'actor_23' 'actor_23' 'actor_23' 'actor_23' 'actor_23'\n",
            " 'actor_23' 'actor_23' 'actor_23' 'actor_23' 'actor_23' 'actor_23'\n",
            " 'actor_10' 'actor_10' 'actor_10' 'actor_10' 'actor_10' 'actor_10'\n",
            " 'actor_10' 'actor_10' 'actor_10' 'actor_10' 'actor_10' 'actor_10'\n",
            " 'actor_10' 'actor_10' 'actor_10' 'actor_10' 'actor_10' 'actor_10'\n",
            " 'actor_10' 'actor_10' 'actor_10' 'actor_10' 'actor_10' 'actor_10'\n",
            " 'actor_10' 'actor_10' 'actor_10' 'actor_10' 'actor_10' 'actor_10'\n",
            " 'actor_10' 'actor_10' 'actor_10' 'actor_10' 'actor_13' 'actor_13'\n",
            " 'actor_13' 'actor_13' 'actor_13' 'actor_13' 'actor_13' 'actor_13'\n",
            " 'actor_13' 'actor_13' 'actor_13' 'actor_13' 'actor_13' 'actor_13'\n",
            " 'actor_13' 'actor_13' 'actor_13' 'actor_13' 'actor_13' 'actor_13'\n",
            " 'actor_13' 'actor_13' 'actor_13' 'actor_13' 'actor_13' 'actor_13'\n",
            " 'actor_13' 'actor_5' 'actor_5' 'actor_5' 'actor_5' 'actor_5' 'actor_5'\n",
            " 'actor_5' 'actor_5' 'actor_5' 'actor_5' 'actor_5' 'actor_5' 'actor_5'\n",
            " 'actor_5' 'actor_5' 'actor_5' 'actor_5' 'actor_5' 'actor_5' 'actor_5'\n",
            " 'actor_5' 'actor_5' 'actor_5' 'actor_5' 'actor_5' 'actor_5' 'actor_5'\n",
            " 'actor_5' 'actor_5' 'actor_5' 'actor_5' 'actor_5' 'actor_5' 'actor_5'\n",
            " 'actor_5' 'actor_5' 'actor_5' 'actor_5' 'actor_5' 'actor_9' 'actor_9'\n",
            " 'actor_9' 'actor_9' 'actor_9' 'actor_9' 'actor_9' 'actor_9' 'actor_9'\n",
            " 'actor_9' 'actor_9' 'actor_9' 'actor_9' 'actor_9' 'actor_9' 'actor_9'\n",
            " 'actor_9' 'actor_9' 'actor_9' 'actor_9' 'actor_9' 'actor_9' 'actor_9'\n",
            " 'actor_9' 'actor_9' 'actor_9' 'actor_9' 'actor_9' 'actor_9' 'actor_9'\n",
            " 'actor_9' 'actor_9' 'actor_28' 'actor_28' 'actor_28' 'actor_28'\n",
            " 'actor_28' 'actor_28' 'actor_28' 'actor_28' 'actor_28' 'actor_28'\n",
            " 'actor_28' 'actor_28' 'actor_28' 'actor_28' 'actor_28' 'actor_28'\n",
            " 'actor_28' 'actor_28' 'actor_28' 'actor_28' 'actor_28' 'actor_28'\n",
            " 'actor_28' 'actor_28' 'actor_28' 'actor_28' 'actor_28' 'actor_28'\n",
            " 'actor_28' 'actor_28' 'actor_28' 'actor_28' 'actor_28' 'actor_28'\n",
            " 'actor_28' 'actor_28' 'actor_11' 'actor_11' 'actor_11' 'actor_11'\n",
            " 'actor_11' 'actor_11' 'actor_11' 'actor_11' 'actor_11' 'actor_11'\n",
            " 'actor_11' 'actor_11' 'actor_11' 'actor_11' 'actor_11' 'actor_11'\n",
            " 'actor_11' 'actor_11' 'actor_11' 'actor_11' 'actor_11' 'actor_11'\n",
            " 'actor_11' 'actor_18' 'actor_18' 'actor_18' 'actor_18' 'actor_18'\n",
            " 'actor_18' 'actor_18' 'actor_18' 'actor_18' 'actor_18' 'actor_18'\n",
            " 'actor_18' 'actor_18' 'actor_18' 'actor_18' 'actor_18' 'actor_18'\n",
            " 'actor_18' 'actor_18' 'actor_18' 'actor_18' 'actor_18' 'actor_18'\n",
            " 'actor_18' 'actor_18' 'actor_18' 'actor_18' 'actor_18' 'actor_18'\n",
            " 'actor_18' 'actor_18' 'actor_18' 'actor_18' 'actor_18' 'actor_18'\n",
            " 'actor_18' 'actor_18' 'actor_18' 'actor_18' 'actor_18' 'actor_18'\n",
            " 'actor_22' 'actor_22' 'actor_22' 'actor_22' 'actor_22' 'actor_22'\n",
            " 'actor_22' 'actor_22' 'actor_22' 'actor_22' 'actor_22' 'actor_22'\n",
            " 'actor_22' 'actor_22' 'actor_22' 'actor_22' 'actor_22' 'actor_22'\n",
            " 'actor_22' 'actor_22' 'actor_22' 'actor_22' 'actor_22' 'actor_22'\n",
            " 'actor_22' 'actor_22' 'actor_22' 'actor_22' 'actor_22' 'actor_22'\n",
            " 'actor_22' 'actor_22' 'actor_22' 'actor_22' 'actor_22' 'actor_22'\n",
            " 'actor_22' 'actor_22' 'actor_20' 'actor_20' 'actor_20' 'actor_20'\n",
            " 'actor_20' 'actor_20' 'actor_20' 'actor_20' 'actor_20' 'actor_20'\n",
            " 'actor_20' 'actor_20' 'actor_20' 'actor_20' 'actor_20' 'actor_20'\n",
            " 'actor_20' 'actor_20' 'actor_20' 'actor_20' 'actor_20' 'actor_20'\n",
            " 'actor_17' 'actor_17' 'actor_17' 'actor_17' 'actor_17' 'actor_17'\n",
            " 'actor_17' 'actor_17' 'actor_17' 'actor_17' 'actor_17' 'actor_17'\n",
            " 'actor_17' 'actor_17' 'actor_17' 'actor_17' 'actor_17' 'actor_17'\n",
            " 'actor_17' 'actor_17' 'actor_17' 'actor_17' 'actor_17' 'actor_17'\n",
            " 'actor_17' 'actor_16' 'actor_16' 'actor_16' 'actor_16' 'actor_16'\n",
            " 'actor_16' 'actor_16' 'actor_16' 'actor_16' 'actor_16' 'actor_16'\n",
            " 'actor_16' 'actor_16' 'actor_16' 'actor_16' 'actor_16' 'actor_16'\n",
            " 'actor_16' 'actor_16' 'actor_16' 'actor_16' 'actor_16' 'actor_16'\n",
            " 'actor_14' 'actor_14' 'actor_14' 'actor_14' 'actor_14' 'actor_14'\n",
            " 'actor_14' 'actor_14' 'actor_14' 'actor_14' 'actor_14' 'actor_14'\n",
            " 'actor_14' 'actor_14' 'actor_14' 'actor_14' 'actor_14' 'actor_14'\n",
            " 'actor_14' 'actor_14' 'actor_14' 'actor_14' 'actor_14' 'actor_14'\n",
            " 'actor_14' 'actor_14' 'actor_14' 'actor_14' 'actor_14' 'actor_14'\n",
            " 'actor_14' 'actor_14' 'actor_19' 'actor_19' 'actor_19' 'actor_19'\n",
            " 'actor_19' 'actor_19' 'actor_19' 'actor_19' 'actor_19' 'actor_19'\n",
            " 'actor_19' 'actor_19' 'actor_19' 'actor_19' 'actor_19' 'actor_19'\n",
            " 'actor_19' 'actor_19' 'actor_19' 'actor_19' 'actor_19' 'actor_19'\n",
            " 'actor_19' 'actor_19' 'actor_19' 'actor_19' 'actor_19' 'actor_2'\n",
            " 'actor_2' 'actor_2' 'actor_2' 'actor_2' 'actor_2' 'actor_2' 'actor_2'\n",
            " 'actor_2' 'actor_2' 'actor_2' 'actor_2' 'actor_2' 'actor_2' 'actor_2'\n",
            " 'actor_2' 'actor_2' 'actor_2' 'actor_2' 'actor_2' 'actor_2' 'actor_2'\n",
            " 'actor_2' 'actor_2' 'actor_2' 'actor_2' 'actor_2' 'actor_2' 'actor_2'\n",
            " 'actor_2' 'actor_2' 'actor_2' 'actor_2' 'actor_2' 'actor_2' 'actor_6'\n",
            " 'actor_6' 'actor_6' 'actor_6' 'actor_6' 'actor_6' 'actor_6' 'actor_6'\n",
            " 'actor_6' 'actor_6' 'actor_6' 'actor_6' 'actor_6' 'actor_6' 'actor_6'\n",
            " 'actor_6' 'actor_6' 'actor_6' 'actor_6' 'actor_6' 'actor_6' 'actor_6'\n",
            " 'actor_6' 'actor_12' 'actor_12' 'actor_12' 'actor_12' 'actor_12'\n",
            " 'actor_12' 'actor_12' 'actor_12' 'actor_12' 'actor_12' 'actor_12'\n",
            " 'actor_12' 'actor_12' 'actor_12' 'actor_12' 'actor_12' 'actor_12'\n",
            " 'actor_12' 'actor_12' 'actor_12' 'actor_12' 'actor_12' 'actor_12'\n",
            " 'actor_12' 'actor_12' 'actor_12' 'actor_15' 'actor_15' 'actor_15'\n",
            " 'actor_15' 'actor_15' 'actor_15' 'actor_15' 'actor_15' 'actor_15'\n",
            " 'actor_15' 'actor_15' 'actor_15' 'actor_15' 'actor_15' 'actor_15'\n",
            " 'actor_15' 'actor_15' 'actor_15' 'actor_15' 'actor_15' 'actor_15'\n",
            " 'actor_15' 'actor_15' 'actor_15' 'actor_15' 'actor_15' 'actor_15'\n",
            " 'actor_15' 'actor_15' 'actor_15' 'actor_3' 'actor_3' 'actor_3' 'actor_3'\n",
            " 'actor_3' 'actor_3' 'actor_3' 'actor_3' 'actor_3' 'actor_3' 'actor_3'\n",
            " 'actor_3' 'actor_3' 'actor_3' 'actor_3' 'actor_3' 'actor_3' 'actor_3'\n",
            " 'actor_3' 'actor_3' 'actor_3' 'actor_3' 'actor_3' 'actor_3' 'actor_3'\n",
            " 'actor_3' 'actor_3' 'actor_3' 'actor_3' 'actor_3' 'actor_3' 'actor_3'\n",
            " 'actor_3' 'actor_3' 'actor_3' 'actor_3' 'actor_3' 'actor_3' 'actor_1'\n",
            " 'actor_1' 'actor_1' 'actor_1' 'actor_1' 'actor_1' 'actor_1' 'actor_1'\n",
            " 'actor_1' 'actor_1' 'actor_1' 'actor_1' 'actor_1' 'actor_1' 'actor_1'\n",
            " 'actor_1' 'actor_1' 'actor_1' 'actor_1' 'actor_1' 'actor_1' 'actor_1'\n",
            " 'actor_1' 'actor_1' 'actor_1' 'actor_1' 'actor_1' 'actor_1' 'actor_1'\n",
            " 'actor_1' 'actor_1' 'actor_1' 'actor_1' 'actor_1' 'actor_1' 'actor_1'\n",
            " 'actor_1' 'actor_1' 'actor_1' 'actor_1' 'actor_1' 'actor_1' 'actor_1'\n",
            " 'actor_1' 'actor_1' 'actor_1' 'actor_1' 'actor_4' 'actor_4' 'actor_4'\n",
            " 'actor_4' 'actor_4' 'actor_4' 'actor_4' 'actor_4' 'actor_4' 'actor_4'\n",
            " 'actor_4' 'actor_4' 'actor_4' 'actor_4' 'actor_4' 'actor_4' 'actor_4'\n",
            " 'actor_4' 'actor_4' 'actor_4' 'actor_4' 'actor_4' 'actor_4' 'actor_4'\n",
            " 'actor_4' 'actor_4' 'actor_21' 'actor_21' 'actor_21' 'actor_21'\n",
            " 'actor_21' 'actor_21' 'actor_21' 'actor_21' 'actor_21' 'actor_21'\n",
            " 'actor_21' 'actor_21' 'actor_21' 'actor_21' 'actor_21' 'actor_21'\n",
            " 'actor_21' 'actor_26' 'actor_26' 'actor_26' 'actor_26' 'actor_26'\n",
            " 'actor_26' 'actor_26' 'actor_26' 'actor_26' 'actor_26' 'actor_26'\n",
            " 'actor_26' 'actor_26' 'actor_26' 'actor_26' 'actor_26' 'actor_26'\n",
            " 'actor_26' 'actor_26' 'actor_26' 'actor_26' 'actor_26' 'actor_26'\n",
            " 'actor_25' 'actor_25' 'actor_25' 'actor_25' 'actor_25' 'actor_25'\n",
            " 'actor_25' 'actor_25' 'actor_25' 'actor_25' 'actor_25' 'actor_25'\n",
            " 'actor_25' 'actor_25' 'actor_25' 'actor_25' 'actor_25' 'actor_25'\n",
            " 'actor_25' 'actor_25' 'actor_25' 'actor_25' 'actor_25' 'actor_25'\n",
            " 'actor_25' 'actor_25' 'actor_25' 'actor_25' 'actor_25' 'actor_8'\n",
            " 'actor_8' 'actor_8' 'actor_8' 'actor_8' 'actor_8' 'actor_8' 'actor_8'\n",
            " 'actor_8' 'actor_8' 'actor_8' 'actor_8' 'actor_8' 'actor_8' 'actor_8'\n",
            " 'actor_8' 'actor_8' 'actor_8' 'actor_8' 'actor_8' 'actor_7' 'actor_7'\n",
            " 'actor_7' 'actor_7' 'actor_7' 'actor_7' 'actor_7' 'actor_7' 'actor_7'\n",
            " 'actor_7' 'actor_7' 'actor_7' 'actor_7' 'actor_7' 'actor_7' 'actor_7'\n",
            " 'actor_7' 'actor_7' 'actor_7' 'actor_7' 'actor_7' 'actor_7' 'actor_7'\n",
            " 'actor_7' 'actor_7' 'actor_7' 'actor_7' 'actor_7' 'actor_7' 'actor_7'\n",
            " 'actor_7' 'actor_7' 'actor_7' 'actor_7' 'actor_7' 'actor_7' 'actor_7'\n",
            " 'actor_7' 'actor_7' 'actor_7' 'actor_7' 'actor_7' 'actor_7' 'actor_7'\n",
            " 'actor_7' 'actor_7' 'actor_7' 'actor_7' 'actor_7' 'actor_7' 'actor_7'\n",
            " 'actor_7' 'actor_7' 'actor_7' 'actor_7' 'actor_7' 'actor_7' 'actor_7'\n",
            " 'actor_7' 'actor_7' 'actor_7' 'actor_29' 'actor_29' 'actor_29' 'actor_29'\n",
            " 'actor_29' 'actor_29' 'actor_29' 'actor_29' 'actor_29' 'actor_29'\n",
            " 'actor_29' 'actor_29' 'actor_29' 'actor_29' 'actor_29' 'actor_29'\n",
            " 'actor_29' 'actor_29' 'actor_29' 'actor_29' 'actor_29' 'actor_29']\n"
          ]
        }
      ]
    },
    {
      "cell_type": "code",
      "source": [
        "validX, validY = load_dataset(\"/content/gdrive/My Drive/Deep Learning Project/data/valid_new/\")"
      ],
      "metadata": {
        "colab": {
          "base_uri": "https://localhost:8080/"
        },
        "id": "cQm4M5abCozi",
        "outputId": "2d7ba10b-a767-4375-b2cb-b85a51200e4e"
      },
      "execution_count": 30,
      "outputs": [
        {
          "output_type": "stream",
          "name": "stdout",
          "text": [
            "['107.png', '104.png', '105.png', '106.png']\n",
            "loaded 4 examples for class: actor_23\n",
            "['21.png', '19.png', '22.png']\n",
            "loaded 3 examples for class: actor_4\n",
            "['63.png', '61.png', '64.png', '60.png']\n",
            "loaded 4 examples for class: actor_12\n",
            "['99.png']\n",
            "loaded 1 examples for class: actor_21\n",
            "['80.png', '84.png', '81.png']\n",
            "loaded 3 examples for class: actor_16\n",
            "['28.png', '32.png', '29.png', '27.png', '33.png', '30.png', '31.png']\n",
            "loaded 7 examples for class: actor_6\n",
            "['16.png', '14.png', '17.png', '15.png', '18.png']\n",
            "loaded 5 examples for class: actor_3\n",
            "['94.png', '92.png', '93.png', '95.png']\n",
            "loaded 4 examples for class: actor_19\n",
            "['55.png', '53.png', '54.png', '52.png']\n",
            "loaded 4 examples for class: actor_10\n",
            "['9.png', '2.png', '8.png', '7.png', '1.png', '6.png', '0.png', '3.png']\n",
            "loaded 8 examples for class: actor_1\n",
            "['85.png', '86.png', '87.png']\n",
            "loaded 3 examples for class: actor_17\n",
            "['91.png', '89.png', '88.png', '90.png']\n",
            "loaded 4 examples for class: actor_18\n",
            "['39.png', '40.png', '34.png', '37.png', '35.png', '38.png']\n",
            "loaded 6 examples for class: actor_7\n",
            "['65.png', '69.png', '66.png', '67.png', '68.png']\n",
            "loaded 5 examples for class: actor_13\n",
            "['101.png', '100.png', '102.png', '103.png']\n",
            "loaded 4 examples for class: actor_22\n",
            "['59.png', '57.png', '58.png', '56.png']\n",
            "loaded 4 examples for class: actor_11\n",
            "['45.png', '48.png', '47.png', '46.png', '49.png', '51.png']\n",
            "loaded 6 examples for class: actor_9\n",
            "['97.png', '98.png', '96.png']\n",
            "loaded 3 examples for class: actor_20\n",
            "['77.png', '79.png', '78.png', '76.png']\n",
            "loaded 4 examples for class: actor_15\n",
            "['128.png', '125.png', '126.png', '127.png']\n",
            "loaded 4 examples for class: actor_28\n",
            "['75.png', '73.png', '71.png', '70.png']\n",
            "loaded 4 examples for class: actor_14\n",
            "['129.png', '132.png', '130.png', '133.png']\n",
            "loaded 4 examples for class: actor_29\n",
            "['117.png', '118.png', '116.png']\n",
            "loaded 3 examples for class: actor_26\n",
            "['109.png', '110.png', '108.png', '111.png']\n",
            "loaded 4 examples for class: actor_24\n",
            "['12.png', '13.png', '10.png', '11.png']\n",
            "loaded 4 examples for class: actor_2\n",
            "['136.png', '137.png', '138.png', '135.png']\n",
            "loaded 4 examples for class: actor_30\n",
            "['25.png', '23.png', '26.png', '24.png']\n",
            "loaded 4 examples for class: actor_5\n",
            "['120.png', '121.png', '122.png', '124.png']\n",
            "loaded 4 examples for class: actor_27\n",
            "['113.png', '115.png', '112.png', '114.png']\n",
            "loaded 4 examples for class: actor_25\n",
            "['42.png', '43.png', '44.png']\n",
            "loaded 3 examples for class: actor_8\n"
          ]
        }
      ]
    },
    {
      "cell_type": "code",
      "source": [
        "testX, testY = load_dataset(\"/content/gdrive/My Drive/Deep Learning Project/data/test_new/\")"
      ],
      "metadata": {
        "colab": {
          "base_uri": "https://localhost:8080/"
        },
        "id": "L6bcGK6ID44-",
        "outputId": "75aee6a0-bffc-4f96-e97f-7293e3d409fe"
      },
      "execution_count": 31,
      "outputs": [
        {
          "output_type": "stream",
          "name": "stdout",
          "text": [
            "['86.png', '84.png', '87.png', '85.png']\n",
            "loaded 4 examples for class: actor_17\n",
            "['49.png', '48.png', '47.png', '46.png']\n",
            "loaded 4 examples for class: actor_9\n",
            "['61.png', '60.png', '62.png']\n",
            "loaded 3 examples for class: actor_11\n",
            "['38.png', '41.png', '40.png', '39.png', '37.png', '36.png']\n",
            "loaded 6 examples for class: actor_7\n",
            "['30.png', '29.png', '31.png', '24.png']\n",
            "loaded 4 examples for class: actor_5\n",
            "['125.png', '124.png', '126.png', '127.png']\n",
            "loaded 4 examples for class: actor_27\n",
            "['129.png', '130.png', '132.png', '133.png']\n",
            "loaded 4 examples for class: actor_28\n",
            "['111.png', '112.png', '110.png']\n",
            "loaded 3 examples for class: actor_23\n",
            "['96.png', '97.png', '99.png', '98.png']\n",
            "loaded 4 examples for class: actor_19\n",
            "['138.png', '140.png', '139.png', '141.png']\n",
            "loaded 4 examples for class: actor_30\n",
            "['76.png', '74.png', '77.png', '75.png']\n",
            "loaded 4 examples for class: actor_15\n",
            "['135.png', '137.png', '134.png', '136.png']\n",
            "loaded 4 examples for class: actor_29\n",
            "['22.png', '23.png', '20.png', '21.png']\n",
            "loaded 4 examples for class: actor_4\n",
            "['67.png', '68.png', '66.png']\n",
            "loaded 3 examples for class: actor_13\n",
            "['114.png', '115.png', '113.png']\n",
            "loaded 3 examples for class: actor_24\n",
            "['18.png', '16.png', '17.png', '19.png']\n",
            "loaded 4 examples for class: actor_3\n",
            "['15.png', '13.png', '14.png', '10.png', '12.png', '11.png', '9.png']\n",
            "loaded 7 examples for class: actor_2\n",
            "['0.png', '8.png', '4.png', '2.png', '3.png', '1.png']\n",
            "loaded 6 examples for class: actor_1\n",
            "['109.png', '108.png', '107.png', '104.png', '105.png', '106.png']\n",
            "loaded 6 examples for class: actor_22\n",
            "['71.png', '70.png', '73.png', '69.png']\n",
            "loaded 4 examples for class: actor_14\n",
            "['102.png', '100.png', '101.png']\n",
            "loaded 3 examples for class: actor_20\n",
            "['103.png']\n",
            "loaded 1 examples for class: actor_21\n",
            "['118.png', '116.png', '117.png', '119.png']\n",
            "loaded 4 examples for class: actor_25\n",
            "['45.png', '44.png', '43.png', '42.png']\n",
            "loaded 4 examples for class: actor_8\n",
            "['95.png', '92.png', '89.png', '94.png', '93.png']\n",
            "loaded 5 examples for class: actor_18\n",
            "['63.png', '64.png', '65.png']\n",
            "loaded 3 examples for class: actor_12\n",
            "['33.png', '35.png', '34.png']\n",
            "loaded 3 examples for class: actor_6\n",
            "['122.png', '123.png', '121.png', '120.png']\n",
            "loaded 4 examples for class: actor_26\n",
            "['50.png', '58.png', '51.png', '59.png', '52.png']\n",
            "loaded 5 examples for class: actor_10\n",
            "['79.png', '82.png', '78.png', '81.png', '80.png', '83.png']\n",
            "loaded 6 examples for class: actor_16\n"
          ]
        }
      ]
    },
    {
      "cell_type": "markdown",
      "source": [
        "## Creating model and getting face embeddings (vectors)"
      ],
      "metadata": {
        "id": "bnN9Uj414wKa"
      }
    },
    {
      "cell_type": "code",
      "source": [
        "!pip install keras_facenet"
      ],
      "metadata": {
        "colab": {
          "base_uri": "https://localhost:8080/"
        },
        "id": "VPjuORE6MOxw",
        "outputId": "f933a8bc-2e19-4c0a-8045-f10678a45738"
      },
      "execution_count": 32,
      "outputs": [
        {
          "output_type": "stream",
          "name": "stdout",
          "text": [
            "Looking in indexes: https://pypi.org/simple, https://us-python.pkg.dev/colab-wheels/public/simple/\n",
            "Collecting keras_facenet\n",
            "  Downloading keras-facenet-0.3.2.tar.gz (10 kB)\n",
            "  Preparing metadata (setup.py) ... \u001b[?25l\u001b[?25hdone\n",
            "Collecting mtcnn (from keras_facenet)\n",
            "  Downloading mtcnn-0.1.1-py3-none-any.whl (2.3 MB)\n",
            "\u001b[2K     \u001b[90m━━━━━━━━━━━━━━━━━━━━━━━━━━━━━━━━━━━━━━━━\u001b[0m \u001b[32m2.3/2.3 MB\u001b[0m \u001b[31m23.7 MB/s\u001b[0m eta \u001b[36m0:00:00\u001b[0m\n",
            "\u001b[?25hRequirement already satisfied: keras>=2.0.0 in /usr/local/lib/python3.10/dist-packages (from mtcnn->keras_facenet) (2.12.0)\n",
            "Requirement already satisfied: opencv-python>=4.1.0 in /usr/local/lib/python3.10/dist-packages (from mtcnn->keras_facenet) (4.7.0.72)\n",
            "Requirement already satisfied: numpy>=1.21.2 in /usr/local/lib/python3.10/dist-packages (from opencv-python>=4.1.0->mtcnn->keras_facenet) (1.22.4)\n",
            "Building wheels for collected packages: keras_facenet\n",
            "  Building wheel for keras_facenet (setup.py) ... \u001b[?25l\u001b[?25hdone\n",
            "  Created wheel for keras_facenet: filename=keras_facenet-0.3.2-py3-none-any.whl size=10370 sha256=b770a49e55c1a1c9f532268253553543d5434343c5e1c9f663de5f7472495544\n",
            "  Stored in directory: /root/.cache/pip/wheels/1d/d8/a9/85cf04ea29321d2afcb82c0caaafdca9195385f9d68cbc7185\n",
            "Successfully built keras_facenet\n",
            "Installing collected packages: mtcnn, keras_facenet\n",
            "Successfully installed keras_facenet-0.3.2 mtcnn-0.1.1\n"
          ]
        }
      ]
    },
    {
      "cell_type": "code",
      "source": [
        "from keras_facenet import FaceNet"
      ],
      "metadata": {
        "id": "1_PMbisAzYFH"
      },
      "execution_count": 34,
      "outputs": []
    },
    {
      "cell_type": "code",
      "source": [
        "model_facenet = FaceNet()\n",
        "#model_facenet.extract()"
      ],
      "metadata": {
        "id": "Dk5pHRDUMhXi"
      },
      "execution_count": 35,
      "outputs": []
    },
    {
      "cell_type": "code",
      "source": [
        "#Reference: https://www.youtube.com/watch?v=15D7nmLnQcs\n",
        "# calculate a face embedding for each face in the dataset using facenet\n",
        "from numpy import load\n",
        "from numpy import expand_dims\n",
        "from numpy import asarray\n",
        "\n",
        "# get the face embedding for one image\n",
        "def get_embedding(model, face_pixels):\n",
        "  face_pixels = face_pixels.astype('float32') \n",
        "\n",
        "  detections = model.extract(face_pixels, threshold = 0.95)\n",
        "  #mean, std = face_pixels.mean(), face_pixels.std() \n",
        "  #face_pixels = (face_pixels - mean) / std  #standardizing the pixel values because facenet expects this to be done\n",
        "  \n",
        "  samples = expand_dims(face_pixels, axis=0)  # transform face into one sample\n",
        "  pred = model.embeddings(samples)  # get vector face embedding\n",
        "  \n",
        "  return pred[0]\n"
      ],
      "metadata": {
        "id": "cUbvm0LNFYbJ"
      },
      "execution_count": 36,
      "outputs": []
    },
    {
      "cell_type": "code",
      "source": [
        "# convert each face in the train, valid and test set to an embedding\n",
        "newTrainX = list()\n",
        "for face_pixels in trainX:\n",
        "  embedding = get_embedding(model_facenet, face_pixels) #length of vector embedding is 512 \n",
        "  newTrainX.append(embedding)\n",
        "\n",
        "newTrainX = asarray(newTrainX)\n"
      ],
      "metadata": {
        "id": "mgW5iJEoOI98"
      },
      "execution_count": null,
      "outputs": []
    },
    {
      "cell_type": "code",
      "source": [
        "print(trainX.shape)\n",
        "print(newTrainX.shape)"
      ],
      "metadata": {
        "colab": {
          "base_uri": "https://localhost:8080/"
        },
        "id": "Pd_HpniZPFtv",
        "outputId": "88e8272d-dbc7-47c8-cf58-939f1e54f4e9"
      },
      "execution_count": 39,
      "outputs": [
        {
          "output_type": "stream",
          "name": "stdout",
          "text": [
            "(916, 160, 160, 3)\n",
            "(916, 512)\n"
          ]
        }
      ]
    },
    {
      "cell_type": "code",
      "source": [
        "newValidX = list()\n",
        "for face_pixels in validX:\n",
        "  embedding = get_embedding(model_facenet, face_pixels)\n",
        "  newValidX.append(embedding)\n",
        "newValidX = asarray(newValidX)\n"
      ],
      "metadata": {
        "id": "5aQR7NKiOqnF"
      },
      "execution_count": null,
      "outputs": []
    },
    {
      "cell_type": "code",
      "source": [
        "print(validX.shape)\n",
        "print(newValidX.shape)"
      ],
      "metadata": {
        "colab": {
          "base_uri": "https://localhost:8080/"
        },
        "id": "UuQVboqEPpiP",
        "outputId": "6281579f-1788-46cd-a00b-cae581a88f2c"
      },
      "execution_count": 42,
      "outputs": [
        {
          "output_type": "stream",
          "name": "stdout",
          "text": [
            "(124, 160, 160, 3)\n",
            "(124, 512)\n"
          ]
        }
      ]
    },
    {
      "cell_type": "code",
      "source": [
        "newTestX = list()\n",
        "for face_pixels in testX:\n",
        "  embedding = get_embedding(model_facenet, face_pixels)\n",
        "  newTestX.append(embedding)\n",
        "newTestX = asarray(newTestX)\n"
      ],
      "metadata": {
        "id": "05ay-4Q-RgID"
      },
      "execution_count": null,
      "outputs": []
    },
    {
      "cell_type": "code",
      "source": [
        "print(testX.shape)\n",
        "print(newTestX.shape)"
      ],
      "metadata": {
        "colab": {
          "base_uri": "https://localhost:8080/"
        },
        "id": "bDfUaF_NPwBI",
        "outputId": "068937d7-9926-46fb-d9c0-c127ab4f58b5"
      },
      "execution_count": 44,
      "outputs": [
        {
          "output_type": "stream",
          "name": "stdout",
          "text": [
            "(123, 160, 160, 3)\n",
            "(123, 512)\n"
          ]
        }
      ]
    },
    {
      "cell_type": "markdown",
      "source": [
        "## Save and load numpy arrays needed"
      ],
      "metadata": {
        "id": "VPfxxcaFUJcO"
      }
    },
    {
      "cell_type": "code",
      "source": [
        "from numpy import savez_compressed\n",
        "savez_compressed('faces-embeddings.npz', newTrainX = newTrainX, trainY = trainY, newValidX = newValidX, validY = validY, newTestX = newTestX, testY = testY)\n",
        "savez_compressed('faces.npz', trainX = trainX, trainY = trainY, validX = validX, validY = validY, testX =testX, testY = testY)\n"
      ],
      "metadata": {
        "id": "NGigNfAtTpbS"
      },
      "execution_count": 45,
      "outputs": []
    },
    {
      "cell_type": "code",
      "source": [
        "from numpy import load\n",
        "\n",
        "faces = load('/content/faces.npz')\n",
        "trainX, trainY, validX, validY, testX, testY = faces['trainX'], faces['trainY'], faces['validX'], faces['validY'], faces[\"testX\"], faces[\"testY\"]\n",
        "\n",
        "\n",
        "face_embeddings = load('/content/faces-embeddings.npz')\n",
        "newTrainX, trainY, newValidX, validY, newTestX, testY = face_embeddings['newTrainX'], face_embeddings['trainY'], face_embeddings['newValidX'], face_embeddings['validY'], face_embeddings[\"newTestX\"], face_embeddings[\"testY\"]"
      ],
      "metadata": {
        "id": "BxlxDKinUWnP"
      },
      "execution_count": 53,
      "outputs": []
    },
    {
      "cell_type": "code",
      "source": [
        "print(newTrainX.shape)\n",
        "\n",
        "print(newValidX.shape)\n",
        "print(newTestX.shape)\n",
        "print(trainY.shape)\n",
        "print(validY.shape)\n",
        "print(testY.shape)"
      ],
      "metadata": {
        "colab": {
          "base_uri": "https://localhost:8080/"
        },
        "id": "w4gmWemWhSRC",
        "outputId": "09ccaf21-15ff-4b8b-df82-7b816c6ac081"
      },
      "execution_count": 54,
      "outputs": [
        {
          "output_type": "stream",
          "name": "stdout",
          "text": [
            "(916, 512)\n",
            "(124, 512)\n",
            "(123, 512)\n",
            "(916,)\n",
            "(124,)\n",
            "(123,)\n"
          ]
        }
      ]
    },
    {
      "cell_type": "markdown",
      "source": [
        "## Classifier on face embeddings"
      ],
      "metadata": {
        "id": "d_K9ZJURuljH"
      }
    },
    {
      "cell_type": "markdown",
      "source": [
        "Normalize face embedding vectors"
      ],
      "metadata": {
        "id": "gTt-nuc61mkg"
      }
    },
    {
      "cell_type": "code",
      "source": [
        "# We normalize the face embedding vectors because the distance between them will be computed. If they are not scaled to unit length, then distanes can blow out of proportion\n",
        "# Face embeddings that are close correspond to same person, face embeddings that are far correspond to different people\n",
        "from sklearn.preprocessing import *\n",
        "\n",
        "#normalize each images embeddings across  all 512 features\n",
        "\n",
        "newTrainX = normalize(newTrainX, norm='l2') \n",
        "newValidX = normalize(newValidX, norm='l2')\n",
        "newTestX = normalize(newTestX, norm='l2')\n"
      ],
      "metadata": {
        "id": "YlEruon5uom-"
      },
      "execution_count": 55,
      "outputs": []
    },
    {
      "cell_type": "code",
      "source": [
        "print(newTrainX.shape)\n",
        "print(newValidX.shape)\n",
        "print(newTestX.shape)"
      ],
      "metadata": {
        "colab": {
          "base_uri": "https://localhost:8080/"
        },
        "id": "yt_ut-OzQbT5",
        "outputId": "392be6bf-d409-4b3c-ad91-a0b0cd15fd01"
      },
      "execution_count": 56,
      "outputs": [
        {
          "output_type": "stream",
          "name": "stdout",
          "text": [
            "(916, 512)\n",
            "(124, 512)\n",
            "(123, 512)\n"
          ]
        }
      ]
    },
    {
      "cell_type": "markdown",
      "source": [
        "Training Linear SVM classifier"
      ],
      "metadata": {
        "id": "v5NC3uGO3L1T"
      }
    },
    {
      "cell_type": "code",
      "source": [
        "from sklearn.svm import SVC\n",
        "\n",
        "# fit model\n",
        "model = SVC(kernel='linear', C = 1.0)\n",
        "model.fit(newTrainX, trainY)\n"
      ],
      "metadata": {
        "id": "EUllg48c3O3U",
        "colab": {
          "base_uri": "https://localhost:8080/",
          "height": 75
        },
        "outputId": "c221e141-296e-41b3-cd63-50106e15b9cd"
      },
      "execution_count": 60,
      "outputs": [
        {
          "output_type": "execute_result",
          "data": {
            "text/plain": [
              "SVC(kernel='linear')"
            ],
            "text/html": [
              "<style>#sk-container-id-4 {color: black;background-color: white;}#sk-container-id-4 pre{padding: 0;}#sk-container-id-4 div.sk-toggleable {background-color: white;}#sk-container-id-4 label.sk-toggleable__label {cursor: pointer;display: block;width: 100%;margin-bottom: 0;padding: 0.3em;box-sizing: border-box;text-align: center;}#sk-container-id-4 label.sk-toggleable__label-arrow:before {content: \"▸\";float: left;margin-right: 0.25em;color: #696969;}#sk-container-id-4 label.sk-toggleable__label-arrow:hover:before {color: black;}#sk-container-id-4 div.sk-estimator:hover label.sk-toggleable__label-arrow:before {color: black;}#sk-container-id-4 div.sk-toggleable__content {max-height: 0;max-width: 0;overflow: hidden;text-align: left;background-color: #f0f8ff;}#sk-container-id-4 div.sk-toggleable__content pre {margin: 0.2em;color: black;border-radius: 0.25em;background-color: #f0f8ff;}#sk-container-id-4 input.sk-toggleable__control:checked~div.sk-toggleable__content {max-height: 200px;max-width: 100%;overflow: auto;}#sk-container-id-4 input.sk-toggleable__control:checked~label.sk-toggleable__label-arrow:before {content: \"▾\";}#sk-container-id-4 div.sk-estimator input.sk-toggleable__control:checked~label.sk-toggleable__label {background-color: #d4ebff;}#sk-container-id-4 div.sk-label input.sk-toggleable__control:checked~label.sk-toggleable__label {background-color: #d4ebff;}#sk-container-id-4 input.sk-hidden--visually {border: 0;clip: rect(1px 1px 1px 1px);clip: rect(1px, 1px, 1px, 1px);height: 1px;margin: -1px;overflow: hidden;padding: 0;position: absolute;width: 1px;}#sk-container-id-4 div.sk-estimator {font-family: monospace;background-color: #f0f8ff;border: 1px dotted black;border-radius: 0.25em;box-sizing: border-box;margin-bottom: 0.5em;}#sk-container-id-4 div.sk-estimator:hover {background-color: #d4ebff;}#sk-container-id-4 div.sk-parallel-item::after {content: \"\";width: 100%;border-bottom: 1px solid gray;flex-grow: 1;}#sk-container-id-4 div.sk-label:hover label.sk-toggleable__label {background-color: #d4ebff;}#sk-container-id-4 div.sk-serial::before {content: \"\";position: absolute;border-left: 1px solid gray;box-sizing: border-box;top: 0;bottom: 0;left: 50%;z-index: 0;}#sk-container-id-4 div.sk-serial {display: flex;flex-direction: column;align-items: center;background-color: white;padding-right: 0.2em;padding-left: 0.2em;position: relative;}#sk-container-id-4 div.sk-item {position: relative;z-index: 1;}#sk-container-id-4 div.sk-parallel {display: flex;align-items: stretch;justify-content: center;background-color: white;position: relative;}#sk-container-id-4 div.sk-item::before, #sk-container-id-4 div.sk-parallel-item::before {content: \"\";position: absolute;border-left: 1px solid gray;box-sizing: border-box;top: 0;bottom: 0;left: 50%;z-index: -1;}#sk-container-id-4 div.sk-parallel-item {display: flex;flex-direction: column;z-index: 1;position: relative;background-color: white;}#sk-container-id-4 div.sk-parallel-item:first-child::after {align-self: flex-end;width: 50%;}#sk-container-id-4 div.sk-parallel-item:last-child::after {align-self: flex-start;width: 50%;}#sk-container-id-4 div.sk-parallel-item:only-child::after {width: 0;}#sk-container-id-4 div.sk-dashed-wrapped {border: 1px dashed gray;margin: 0 0.4em 0.5em 0.4em;box-sizing: border-box;padding-bottom: 0.4em;background-color: white;}#sk-container-id-4 div.sk-label label {font-family: monospace;font-weight: bold;display: inline-block;line-height: 1.2em;}#sk-container-id-4 div.sk-label-container {text-align: center;}#sk-container-id-4 div.sk-container {/* jupyter's `normalize.less` sets `[hidden] { display: none; }` but bootstrap.min.css set `[hidden] { display: none !important; }` so we also need the `!important` here to be able to override the default hidden behavior on the sphinx rendered scikit-learn.org. See: https://github.com/scikit-learn/scikit-learn/issues/21755 */display: inline-block !important;position: relative;}#sk-container-id-4 div.sk-text-repr-fallback {display: none;}</style><div id=\"sk-container-id-4\" class=\"sk-top-container\"><div class=\"sk-text-repr-fallback\"><pre>SVC(kernel=&#x27;linear&#x27;)</pre><b>In a Jupyter environment, please rerun this cell to show the HTML representation or trust the notebook. <br />On GitHub, the HTML representation is unable to render, please try loading this page with nbviewer.org.</b></div><div class=\"sk-container\" hidden><div class=\"sk-item\"><div class=\"sk-estimator sk-toggleable\"><input class=\"sk-toggleable__control sk-hidden--visually\" id=\"sk-estimator-id-4\" type=\"checkbox\" checked><label for=\"sk-estimator-id-4\" class=\"sk-toggleable__label sk-toggleable__label-arrow\">SVC</label><div class=\"sk-toggleable__content\"><pre>SVC(kernel=&#x27;linear&#x27;)</pre></div></div></div></div></div>"
            ]
          },
          "metadata": {},
          "execution_count": 60
        }
      ]
    },
    {
      "cell_type": "markdown",
      "source": [
        "Measure performance on validation and test set"
      ],
      "metadata": {
        "id": "98a2lj8urLjN"
      }
    },
    {
      "cell_type": "code",
      "source": [
        "from sklearn.metrics import accuracy_score\n",
        "\n",
        "validY_preds = model.predict(newValidX)\n",
        "testY_preds = model.predict(newTestX)\n",
        "\n",
        "validation_accuracy = accuracy_score(validY, validY_preds)\n",
        "test_accuracy = accuracy_score(validY, validY_preds)\n"
      ],
      "metadata": {
        "id": "sprUStOr50BX"
      },
      "execution_count": 58,
      "outputs": []
    },
    {
      "cell_type": "code",
      "source": [
        "print(\"Accuracy on validation set is {:0.2f}\".format(validation_accuracy))\n",
        "print(\"Accuracy on test set is {:0.2f}\".format(test_accuracy))"
      ],
      "metadata": {
        "id": "J2iXutsg64lQ",
        "colab": {
          "base_uri": "https://localhost:8080/"
        },
        "outputId": "c1864614-cbfa-423f-e526-b1725d575aca"
      },
      "execution_count": 59,
      "outputs": [
        {
          "output_type": "stream",
          "name": "stdout",
          "text": [
            "Accuracy on validation set is 0.85\n",
            "Accuracy on test set is 0.85\n"
          ]
        }
      ]
    }
  ]
}